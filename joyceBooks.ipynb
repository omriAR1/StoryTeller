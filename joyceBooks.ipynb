{
  "cells": [
    {
      "cell_type": "markdown",
      "metadata": {
        "id": "D9JQru33zUDX"
      },
      "source": [
        "# Downloads & Setup\n",
        "Nltk is a suite of libraries stical natural language processing for English written in Python\n"
      ]
    },
    {
      "cell_type": "markdown",
      "metadata": {
        "id": "2rA2PNEMv33h"
      },
      "source": [
        "### Books\n",
        "James Joyce books downloaded from the [Gutenberg Project](https://www.gutenberg.org/)"
      ]
    },
    {
      "cell_type": "markdown",
      "metadata": {
        "id": "Bgi-VcHGq6-k"
      },
      "source": [
        "### punkt\n",
        "This tokenizer divides a text into a list of sentences\n",
        "by using an unsupervised algorithm to build a model for abbreviation\n",
        "words, collocations, and words that start sentences."
      ]
    },
    {
      "cell_type": "markdown",
      "metadata": {
        "id": "Yr-YcSTHrGdB"
      },
      "source": [
        "### stopwords\n",
        "some extremely common words which would appear to be of little value in helping select documents matching a user need are excluded from the vocabulary entirely. These words are called stop words"
      ]
    },
    {
      "cell_type": "markdown",
      "metadata": {
        "id": "B7VnBaoTru6a"
      },
      "source": [
        "## setup"
      ]
    },
    {
      "cell_type": "code",
      "execution_count": 9,
      "metadata": {
        "colab": {
          "base_uri": "https://localhost:8080/"
        },
        "id": "1dNR8598sPrC",
        "outputId": "5a3a017e-da67-43d8-ecfe-c8239e07cce3"
      },
      "outputs": [
        {
          "output_type": "stream",
          "name": "stderr",
          "text": [
            "[nltk_data] Downloading package punkt to /root/nltk_data...\n",
            "[nltk_data]   Unzipping tokenizers/punkt.zip.\n",
            "[nltk_data] Downloading package stopwords to /root/nltk_data...\n",
            "[nltk_data]   Unzipping corpora/stopwords.zip.\n"
          ]
        },
        {
          "output_type": "execute_result",
          "data": {
            "text/plain": [
              "True"
            ]
          },
          "metadata": {},
          "execution_count": 9
        }
      ],
      "source": [
        "import nltk\n",
        "from nltk.corpus import stopwords\n",
        "from nltk.tokenize import word_tokenize\n",
        "nltk.download('punkt')\n",
        "nltk.download('stopwords')\n"
      ]
    },
    {
      "cell_type": "code",
      "execution_count": 10,
      "metadata": {
        "id": "jgsM3bKOdmMG"
      },
      "outputs": [],
      "source": [
        "import re\n",
        "import os\n",
        "import time\n",
        "\n",
        "import pandas\n",
        "import numpy\n",
        "\n",
        "import tensorflow as tf \n",
        "from tensorflow import keras \n",
        "from tensorflow.keras.models import Sequential, load_model\n",
        "from keras.layers import Dense, Embedding, LSTM, Dropout\n",
        "\n",
        "from random import randint\n",
        "from collections import Counter\n",
        "\n",
        "\n"
      ]
    },
    {
      "cell_type": "markdown",
      "metadata": {
        "id": "2G3XdiUgr0PU"
      },
      "source": [
        "# Data\n",
        "For this project we access the writing of [james joyce](https://en.wikipedia.org/wiki/James_Joyce) that is famous for his experimental use of language and exploration of new literary methods, including interior monologue, use of a complex network of symbolic parallels, and invented words, puns, and allusions in his novels.\n",
        "We will consume the following writings:\n",
        "\n",
        "ChamberMusic, Dubliners, Exiles, Portait of the Artist, Ulysses."
      ]
    },
    {
      "cell_type": "markdown",
      "metadata": {
        "id": "8-JUKqIdx8xc"
      },
      "source": [
        "## Data Cleaning Functions"
      ]
    },
    {
      "cell_type": "markdown",
      "metadata": {
        "id": "rJz-F6aIs18C"
      },
      "source": [
        "### Html\n",
        "removes taggs or patterns cotaining links."
      ]
    },
    {
      "cell_type": "code",
      "execution_count": 16,
      "metadata": {
        "id": "YvYYecfUx_-h"
      },
      "outputs": [],
      "source": [
        "def html_pattern():\n",
        "    return re.compile('<.*?>')\n",
        "\n",
        "\n",
        "def remove_html(text):\n",
        "  \"\"\"\n",
        "  REMOVE HTML CODES\n",
        "  \"\"\"\n",
        "  return html_pattern().sub(r'', text)   "
      ]
    },
    {
      "cell_type": "markdown",
      "metadata": {
        "id": "2BnMma8iyRey"
      },
      "source": [
        "### Non-Ascii characters\n",
        "Remove any traces of illegal characters in the text"
      ]
    },
    {
      "cell_type": "code",
      "execution_count": 17,
      "metadata": {
        "id": "9_hxu3-SyVBx"
      },
      "outputs": [],
      "source": [
        "def remove_non_ascii(row):\n",
        "    \"\"\"\n",
        "    REMOVE NON ASCII CHARACTERS\n",
        "    \"\"\"\n",
        "    cleaned = \"\"\n",
        "    for word in row[\"text\"]:\n",
        "        if word.isascii():\n",
        "            cleaned += word\n",
        "    return cleaned"
      ]
    },
    {
      "cell_type": "markdown",
      "metadata": {
        "id": "4CWnd73WteQA"
      },
      "source": [
        "### Words length filters"
      ]
    },
    {
      "cell_type": "markdown",
      "metadata": {
        "id": "ahVozx0VyjnJ"
      },
      "source": [
        "We remove any words that is 1 character in length, in addition to empty lines and multiple spaces \"words\".\n",
        "As one of the books is a poem collection - it is very common to have multiple empty lines in a row, reporesting a page turn.\n",
        "Multiple spaces in a row represnts the poem style."
      ]
    },
    {
      "cell_type": "code",
      "execution_count": 18,
      "metadata": {
        "id": "7ezEVFI2yn_N"
      },
      "outputs": [],
      "source": [
        "def remove_single_char_func(text, threshold=1):\n",
        "    '''\n",
        "    Removes single characters from string, if present\n",
        "    \n",
        "    Step 1: Use word_tokenize() to get tokens from string\n",
        "    Step 2: Removes words whose length falls below the threshold (by default = 1)\n",
        "    \n",
        "    Args:\n",
        "        text (str): String to which the functions are to be applied, string\n",
        "    \n",
        "    Returns:\n",
        "        String with removed words whose length was below the threshold (by default = 1)\n",
        "    ''' \n",
        "    threshold = threshold\n",
        "    \n",
        "    words = word_tokenize(text)\n",
        "    text = ' '.join([word for word in words if len(word) > threshold])\n",
        "    return text\n",
        "\n",
        "def remove_multiple_spaces(text):\n",
        "  spaces_pattern= re.compile('\\s{2,}')\n",
        "  return spaces_pattern.sub(' ', text)"
      ]
    },
    {
      "cell_type": "markdown",
      "metadata": {
        "id": "8pRU9fsIyswD"
      },
      "source": [
        "### Lower Casing\n",
        "To reduce the amount of data in the model, subbing all upper case letters to the lower case form.\n",
        "The main feature is the amount of unique words, in the spoken language there is no different between \"Hello\" and \"hello\"."
      ]
    },
    {
      "cell_type": "code",
      "execution_count": 19,
      "metadata": {
        "id": "05m5Yx4vyt81"
      },
      "outputs": [],
      "source": [
        "def make_lower_case(text):\n",
        "    \"\"\"\n",
        "    MAKE DESCRIPTION TEXT LOWER CASE\n",
        "    \"\"\"\n",
        "    cleaned = \"\"\n",
        "    for word in text[\"cleaned_description\"]:\n",
        "        cleaned += word.lower()\n",
        "    return cleaned"
      ]
    },
    {
      "cell_type": "markdown",
      "metadata": {
        "id": "HF8ay3RTy7KP"
      },
      "source": [
        "### stop words and panctuations"
      ]
    },
    {
      "cell_type": "code",
      "execution_count": 20,
      "metadata": {
        "id": "TkA2MHhSy9si"
      },
      "outputs": [],
      "source": [
        "def remove_punctuations(text):\n",
        "    text = re.sub(r\"[^a-zA-Z]\", ' ', text)\n",
        "    return text\n",
        "\n",
        "\n",
        "def remove_stop_words(text):\n",
        "    \"\"\"\n",
        "    REMOVE STOP WORDS\n",
        "    \"\"\"\n",
        "    text = text.split()\n",
        "    stops = set(stopwords.words('english'))\n",
        "    text = [word for word in text if word not in stops]\n",
        "    text = \" \".join(text)\n",
        "    return text\n"
      ]
    },
    {
      "cell_type": "markdown",
      "metadata": {
        "id": "vjnI8OJLvgBI"
      },
      "source": [
        "## Organising Data\n",
        "This model use pandas [DataFrame](https://pandas.pydata.org/docs/reference/api/pandas.DataFrame.html) to drive the pre-processing of text.\n",
        "Datafarme methods are implemented in c++, providing high performance and convient way to process data."
      ]
    },
    {
      "cell_type": "code",
      "execution_count": 21,
      "metadata": {
        "id": "26upDpk1e6J3"
      },
      "outputs": [],
      "source": [
        "def clean_book(book_file):\n",
        "    raw_text_file = book_file.read()\n",
        "    return remove_html(raw_text_file)\n"
      ]
    },
    {
      "cell_type": "code",
      "execution_count": 22,
      "metadata": {
        "id": "QurON6utp385"
      },
      "outputs": [],
      "source": [
        "def create_book_df():\n",
        "  book_list = [fold for file, der, fold in os.walk(\"book_project/\")][0]\n",
        "  books_df = pandas.DataFrame(columns=[\"book_name\", \"text\"])\n",
        "  for book in book_list:\n",
        "      with open(f\"book_project/{book}\", encoding=\"utf-8\") as book_file:\n",
        "          cleaned = clean_book(book_file)\n",
        "          books_df = books_df.append({\"book_name\": book, \"text\": cleaned}, ignore_index=True)\n",
        "  books_df[\"cleaned_description\"] = books_df.apply(lambda book_row: remove_non_ascii(book_row), axis=1)\n",
        "  books_df[\"cleaned_description\"] = books_df.apply(lambda book_row: make_lower_case(book_row), axis=1)\n",
        "  books_df[\"cleaned_description\"] = books_df.cleaned_description.apply(remove_stop_words)\n",
        "  books_df[\"cleaned_description\"] = books_df.cleaned_description.apply(remove_punctuations)\n",
        "  books_df[\"cleaned_description\"] = books_df.cleaned_description.apply(remove_single_char_func)\n",
        "  books_df[\"cleaned_description\"] = books_df.cleaned_description.apply(remove_multiple_spaces)\n",
        "  return books_df"
      ]
    },
    {
      "cell_type": "markdown",
      "metadata": {
        "id": "3bbiVU4FwQH5"
      },
      "source": [
        "## Tokenizing Words\n",
        "First lets examine our data.\n",
        "We should have all the letters in the english language in addition to the space letter."
      ]
    },
    {
      "cell_type": "code",
      "execution_count": 23,
      "metadata": {
        "id": "JiszSvNWqRdX"
      },
      "outputs": [],
      "source": [
        "books_df = create_book_df()\n",
        "\n",
        "all_words = \"\"\n",
        "for index, row in books_df.iterrows():\n",
        "    all_words += row[\"cleaned_description\"]\n",
        "\n",
        "vocab = sorted(set(all_words))"
      ]
    },
    {
      "cell_type": "code",
      "execution_count": null,
      "metadata": {
        "id": "CiG_FoUVRbXI"
      },
      "outputs": [],
      "source": [
        "print(f\"{len(vocab)} unique characters\")\n",
        "all_words_set = Counter(all_words.split())\n",
        "print(f\"Unique words: {len(all_words_set)}\")\n",
        "print(f\"Most frequnetly used words: {all_words_set.most_common(10)}\")\n",
        "top_ten_words = 0\n",
        "for word in all_words_set.most_common(10):\n",
        "  top_ten_words+= word[1]\n",
        "\n",
        "top_twenty_words = 0\n",
        "for word in all_words_set.most_common(20):\n",
        "  top_twenty_words+= word[1]\n",
        "print(f\"Top 10 words are {top_ten_words/len(all_words_set)*100}% of all words\")\n",
        "print(f\"Top 20 words are {top_twenty_words/len(all_words_set)*100}% of all words\")"
      ]
    },
    {
      "cell_type": "markdown",
      "metadata": {
        "id": "7rBWc6Zfy3xO"
      },
      "source": [
        "## Token mapping\n",
        "Our model is character based, and as such, we provide two sets of mappings -\n",
        "charcter to id\n",
        "id to charcter"
      ]
    },
    {
      "cell_type": "code",
      "execution_count": 24,
      "metadata": {
        "id": "yWUfdERCBOKu"
      },
      "outputs": [],
      "source": [
        "ids_from_chars = tf.keras.layers.StringLookup(\n",
        "    vocabulary=list(vocab), mask_token=None)\n",
        "# Length of the vocabulary in StringLookup Layer\n",
        "vocab_size = len(ids_from_chars.get_vocabulary())"
      ]
    },
    {
      "cell_type": "code",
      "execution_count": 25,
      "metadata": {
        "id": "4Drh5oxH_oXy"
      },
      "outputs": [],
      "source": [
        "chars_from_ids = tf.keras.layers.StringLookup(\n",
        "    vocabulary=ids_from_chars.get_vocabulary(), invert=True, mask_token=None)"
      ]
    },
    {
      "cell_type": "code",
      "execution_count": 26,
      "metadata": {
        "id": "S81-gVBwrjwJ"
      },
      "outputs": [],
      "source": [
        "def text_from_ids(ids):\n",
        "  return tf.strings.reduce_join(chars_from_ids(ids), axis=-1)"
      ]
    },
    {
      "cell_type": "code",
      "execution_count": 27,
      "metadata": {
        "id": "7mxsBq8I-wGx"
      },
      "outputs": [],
      "source": [
        "all_ids = ids_from_chars(tf.strings.unicode_split(all_words, 'UTF-8'))"
      ]
    },
    {
      "cell_type": "code",
      "execution_count": 28,
      "metadata": {
        "id": "XOzRSCYE-qZ6"
      },
      "outputs": [],
      "source": [
        "ids_dataset = tf.data.Dataset.from_tensor_slices(all_ids)"
      ]
    },
    {
      "cell_type": "code",
      "execution_count": 29,
      "metadata": {
        "id": "TINc_obq-sUw"
      },
      "outputs": [],
      "source": [
        "seq_length = 100\n",
        "sequences = ids_dataset.batch(seq_length+1, drop_remainder=True)"
      ]
    },
    {
      "cell_type": "markdown",
      "metadata": {
        "id": "VdJtY3g-zpY_"
      },
      "source": [
        "## Split text sequnces\n",
        "Training requires a dataset of `(input, label)` pairs. Where `input` and \n",
        "`label` are sequences. At each time step the input is the current character and the label is the next character.\n"
      ]
    },
    {
      "cell_type": "code",
      "execution_count": 30,
      "metadata": {
        "id": "PlmPSeD9sL7z"
      },
      "outputs": [],
      "source": [
        "def split_input_target(sequence):\n",
        "    input_text = sequence[:-1]\n",
        "    target_text = sequence[1:]\n",
        "    return input_text, target_text"
      ]
    },
    {
      "cell_type": "code",
      "execution_count": 31,
      "metadata": {
        "id": "xGVdttvksSyA"
      },
      "outputs": [],
      "source": [
        "dataset = sequences.map(split_input_target)"
      ]
    },
    {
      "cell_type": "markdown",
      "metadata": {
        "id": "PDObYFNX0HKi"
      },
      "source": [
        "# Model"
      ]
    },
    {
      "cell_type": "markdown",
      "metadata": {
        "id": "VCaolp1h0NOa"
      },
      "source": [
        "## Settings\n",
        "Settings for the nn model"
      ]
    },
    {
      "cell_type": "markdown",
      "metadata": {
        "id": "v_kxTKeJEHQL"
      },
      "source": [
        "### Features size"
      ]
    },
    {
      "cell_type": "code",
      "execution_count": 58,
      "metadata": {
        "id": "YPoW087jELT7"
      },
      "outputs": [],
      "source": [
        "dimension_factor = 8\n",
        "\n",
        "# The embedding dimension\n",
        "embedding_dim = 2**dimension_factor\n",
        "\n",
        "# Number of RNN units\n",
        "rnn_units = 2**(dimension_factor+2)\n",
        "\n",
        "# Batch size\n",
        "BATCH_SIZE = 128\n",
        "BUFFER_SIZE = 10000\n",
        "EPOCHS = 10"
      ]
    },
    {
      "cell_type": "code",
      "execution_count": 59,
      "metadata": {
        "colab": {
          "base_uri": "https://localhost:8080/"
        },
        "id": "vzeYrTBQshwb",
        "outputId": "a83aebbc-ee0f-48d4-bfb4-07bef519a26e"
      },
      "outputs": [
        {
          "output_type": "execute_result",
          "data": {
            "text/plain": [
              "<PrefetchDataset element_spec=(TensorSpec(shape=(128, 100), dtype=tf.int64, name=None), TensorSpec(shape=(128, 100), dtype=tf.int64, name=None))>"
            ]
          },
          "metadata": {},
          "execution_count": 59
        }
      ],
      "source": [
        "dataset = (\n",
        "    dataset\n",
        "    .shuffle(BUFFER_SIZE)\n",
        "    .batch(BATCH_SIZE, drop_remainder=True)\n",
        "    .prefetch(tf.data.experimental.AUTOTUNE))\n",
        "dataset"
      ]
    },
    {
      "cell_type": "markdown",
      "metadata": {
        "id": "njhWeGngEtOe"
      },
      "source": [
        "## Model Architecture \n"
      ]
    },
    {
      "cell_type": "markdown",
      "metadata": {
        "id": "a5VR4ph65Wzm"
      },
      "source": [
        "### Defining loss algorithm"
      ]
    },
    {
      "cell_type": "code",
      "execution_count": 40,
      "metadata": {
        "id": "ftBbaTIY5a9f"
      },
      "outputs": [],
      "source": [
        "loss = tf.losses.SparseCategoricalCrossentropy(from_logits=True)"
      ]
    },
    {
      "cell_type": "code",
      "source": [
        "from matplotlib import pyplot as plt\n",
        "def plot_model_loss(model_history):\n",
        "  plt.plot(model_history.history['loss'])\n",
        "  plt.title('model loss')\n",
        "  plt.ylabel('loss')\n",
        "  plt.xlabel('epoch')\n",
        "  plt.legend(['loss'], loc='upper right')\n",
        "  plt.show()"
      ],
      "metadata": {
        "id": "4VbMzILB8FIF"
      },
      "execution_count": 41,
      "outputs": []
    },
    {
      "cell_type": "markdown",
      "metadata": {
        "id": "utxYmQSY5iFO"
      },
      "source": [
        "### Defining optimizer algorithm"
      ]
    },
    {
      "cell_type": "code",
      "execution_count": 42,
      "metadata": {
        "id": "OkQLFATr5uHG"
      },
      "outputs": [],
      "source": [
        "optimizer ='adam'"
      ]
    },
    {
      "cell_type": "markdown",
      "metadata": {
        "id": "5C97-5lk3YfR"
      },
      "source": [
        "### GRU Based Model\n",
        "keras.layers.Embedding -> keras.layers.GRU -> keras.layers.Dense"
      ]
    },
    {
      "cell_type": "code",
      "execution_count": 35,
      "metadata": {
        "colab": {
          "base_uri": "https://localhost:8080/"
        },
        "id": "WBM-BuaXs3tA",
        "outputId": "ca5aa170-d68e-408e-84d8-66cfce9b7e63"
      },
      "outputs": [
        {
          "output_type": "stream",
          "name": "stdout",
          "text": [
            "(64, 100, 83) # (batch_size, sequence_length, vocab_size)\n"
          ]
        }
      ],
      "source": [
        "class MyModel(tf.keras.Model):\n",
        "  def __init__(self, vocab_size, embedding_dim, rnn_units):\n",
        "    super().__init__(self)\n",
        "    self.embedding = tf.keras.layers.Embedding(vocab_size, embedding_dim)\n",
        "    self.gru = tf.keras.layers.GRU(rnn_units,\n",
        "                                   return_sequences=True,\n",
        "                                   return_state=True)\n",
        "    self.dense = tf.keras.layers.Dense(vocab_size)\n",
        "\n",
        "  def call(self, inputs, states=None, return_state=False, training=False):\n",
        "    x = inputs\n",
        "    x = self.embedding(x, training=training)\n",
        "    if states is None:\n",
        "      states = self.gru.get_initial_state(x)\n",
        "    x, states = self.gru(x, initial_state=states, training=training)\n",
        "    x = self.dense(x, training=training)\n",
        "\n",
        "    if return_state:\n",
        "      return x, states\n",
        "    else:\n",
        "      return x\n",
        "\n",
        "model = MyModel(\n",
        "    vocab_size=vocab_size,\n",
        "    embedding_dim=embedding_dim,\n",
        "    rnn_units=rnn_units)\n",
        "\n",
        "# initiate model so we can check its summary\n",
        "for input_example_batch, target_example_batch in dataset.take(1):\n",
        "  example_batch_predictions = model(input_example_batch)\n",
        "  print(example_batch_predictions.shape, \"# (batch_size, sequence_length, vocab_size)\")"
      ]
    },
    {
      "cell_type": "markdown",
      "metadata": {
        "id": "iOWbgI3zHQ_8"
      },
      "source": [
        "### Experiment with added layers\n",
        "Lets add another RNN layer"
      ]
    },
    {
      "cell_type": "code",
      "execution_count": 26,
      "metadata": {
        "colab": {
          "base_uri": "https://localhost:8080/"
        },
        "id": "f0jPj99VBXni",
        "outputId": "45eb0574-55d3-4379-99b7-fe3cff89b8db"
      },
      "outputs": [
        {
          "output_type": "stream",
          "name": "stdout",
          "text": [
            "(128, 100, 28) # (batch_size, sequence_length, vocab_size)\n"
          ]
        }
      ],
      "source": [
        "class MyModelExpirement(tf.keras.Model):\n",
        "  def __init__(self, vocab_size, embedding_dim, rnn_units):\n",
        "    super().__init__(self)\n",
        "    self.embedding = tf.keras.layers.Embedding(vocab_size, embedding_dim)\n",
        "    self.gru = tf.keras.layers.GRU(rnn_units,\n",
        "                                   return_sequences=True,\n",
        "                                   return_state=True)\n",
        "    self.simple = tf.keras.layers.SimpleRNN(rnn_units, return_sequences=True,\n",
        "                                   return_state=True)\n",
        "    self.dense = tf.keras.layers.Dense(vocab_size)\n",
        "\n",
        "  def call(self, inputs, states=None, return_state=False, training=False):\n",
        "    x = inputs\n",
        "    x = self.embedding(x, training=training)\n",
        "    if states is None:\n",
        "      states = self.gru.get_initial_state(x)\n",
        "    x, states = self.gru(x, initial_state=states, training=training)\n",
        "    x, states = self.simple(x, states)\n",
        "    x = self.dense(x, training=training)\n",
        "\n",
        "    if return_state:\n",
        "      return x, states\n",
        "    else:\n",
        "      return x\n",
        "\n",
        "model = MyModelExpirement(\n",
        "    vocab_size=vocab_size,\n",
        "    embedding_dim=embedding_dim,\n",
        "    rnn_units=rnn_units)\n",
        "\n",
        "# initiate model so we can check its summary\n",
        "for input_example_batch, target_example_batch in dataset.take(1):\n",
        "  example_batch_predictions = model(input_example_batch)\n",
        "  print(example_batch_predictions.shape, \"# (batch_size, sequence_length, vocab_size)\")"
      ]
    },
    {
      "cell_type": "code",
      "execution_count": null,
      "metadata": {
        "colab": {
          "base_uri": "https://localhost:8080/"
        },
        "id": "3W2bdAls5Xz-",
        "outputId": "092e32fc-33bf-4a2c-e099-205cca3ac862"
      },
      "outputs": [
        {
          "output_type": "stream",
          "name": "stdout",
          "text": [
            "Model: \"my_model_expirement_1\"\n",
            "_________________________________________________________________\n",
            " Layer (type)                Output Shape              Param #   \n",
            "=================================================================\n",
            " embedding_2 (Embedding)     multiple                  7168      \n",
            "                                                                 \n",
            " gru_2 (GRU)                 multiple                  3938304   \n",
            "                                                                 \n",
            " simple_rnn_1 (SimpleRNN)    multiple                  2098176   \n",
            "                                                                 \n",
            " dense_2 (Dense)             multiple                  28700     \n",
            "                                                                 \n",
            "=================================================================\n",
            "Total params: 6,072,348\n",
            "Trainable params: 6,072,348\n",
            "Non-trainable params: 0\n",
            "_________________________________________________________________\n"
          ]
        }
      ],
      "source": [
        "model.summary()"
      ]
    },
    {
      "cell_type": "markdown",
      "metadata": {
        "id": "vkjjZyr-LI0W"
      },
      "source": [
        "### Output before training\n",
        "Let see what we get from uuntrained model"
      ]
    },
    {
      "cell_type": "code",
      "execution_count": 63,
      "metadata": {
        "colab": {
          "base_uri": "https://localhost:8080/"
        },
        "id": "mML1dn89CzkQ",
        "outputId": "45b39615-4f09-4421-a597-5674d327c2bd"
      },
      "outputs": [
        {
          "output_type": "stream",
          "name": "stdout",
          "text": [
            "Input:\n",
            " b' taps brow must kill priest king biddy clap hear professor said hes professor college cunty kate did'\n",
            "Next Char Predictions:\n",
            " b'ddmftdtf hmhrqaqvqmdhhdjpgeradxhectt[UNK]bxxigerzahj[UNK]zjw[UNK]takcgcbgy vsiizozhahgui ixxylgejedvuntjcmomtkdj'\n"
          ]
        }
      ],
      "source": [
        "sampled_indices = tf.random.categorical(example_batch_predictions[0], num_samples=1)\n",
        "sampled_indices = tf.squeeze(sampled_indices, axis=-1).numpy()\n",
        "print(\"Input:\\n\", text_from_ids(input_example_batch[0]).numpy())\n",
        "print(\"Next Char Predictions:\\n\", text_from_ids(sampled_indices).numpy())"
      ]
    },
    {
      "cell_type": "code",
      "execution_count": 64,
      "metadata": {
        "colab": {
          "base_uri": "https://localhost:8080/"
        },
        "id": "rtc2Dd1st8yd",
        "outputId": "6ee2c0ab-3da4-47d1-9176-faff3693582d"
      },
      "outputs": [
        {
          "output_type": "stream",
          "name": "stdout",
          "text": [
            "(128, 100, 28) # (batch_size, sequence_length, vocab_size)\n",
            "Prediction shape:  (128, 100, 28)  # (batch_size, sequence_length, vocab_size)\n",
            "Mean loss:         tf.Tensor(3.3323407, shape=(), dtype=float32)\n"
          ]
        }
      ],
      "source": [
        "for input_example_batch, target_example_batch in dataset.take(1):\n",
        "  example_batch_predictions = model(input_example_batch)\n",
        "  print(example_batch_predictions.shape, \"# (batch_size, sequence_length, vocab_size)\")\n",
        "  \n",
        "example_batch_mean_loss = loss(target_example_batch, example_batch_predictions)\n",
        "print(\"Prediction shape: \", example_batch_predictions.shape, \" # (batch_size, sequence_length, vocab_size)\")\n",
        "print(\"Mean loss:        \", example_batch_mean_loss)"
      ]
    },
    {
      "cell_type": "code",
      "execution_count": 29,
      "metadata": {
        "id": "31wu52jYDclP"
      },
      "outputs": [],
      "source": [
        "model.compile(optimizer=optimizer, loss=loss)"
      ]
    },
    {
      "cell_type": "markdown",
      "metadata": {
        "id": "9sIMjZ8DFuFK"
      },
      "source": [
        "## Training"
      ]
    },
    {
      "cell_type": "code",
      "execution_count": 50,
      "metadata": {
        "colab": {
          "base_uri": "https://localhost:8080/",
          "height": 641
        },
        "id": "FW1iPd2HDXCe",
        "outputId": "9395d7fc-595f-4509-8cca-d9de945dd6a4"
      },
      "outputs": [
        {
          "output_type": "stream",
          "name": "stdout",
          "text": [
            "Epoch 1/10\n"
          ]
        },
        {
          "output_type": "error",
          "ename": "ValueError",
          "evalue": "ignored",
          "traceback": [
            "\u001b[0;31m---------------------------------------------------------------------------\u001b[0m",
            "\u001b[0;31mValueError\u001b[0m                                Traceback (most recent call last)",
            "\u001b[0;32m<ipython-input-50-25cc55b1344d>\u001b[0m in \u001b[0;36m<module>\u001b[0;34m\u001b[0m\n\u001b[0;32m----> 1\u001b[0;31m \u001b[0mhistory\u001b[0m \u001b[0;34m=\u001b[0m \u001b[0mmodel\u001b[0m\u001b[0;34m.\u001b[0m\u001b[0mfit\u001b[0m\u001b[0;34m(\u001b[0m\u001b[0mdataset\u001b[0m\u001b[0;34m,\u001b[0m \u001b[0mepochs\u001b[0m\u001b[0;34m=\u001b[0m\u001b[0mEPOCHS\u001b[0m\u001b[0;34m)\u001b[0m\u001b[0;34m\u001b[0m\u001b[0;34m\u001b[0m\u001b[0m\n\u001b[0m",
            "\u001b[0;32m/usr/local/lib/python3.7/dist-packages/keras/utils/traceback_utils.py\u001b[0m in \u001b[0;36merror_handler\u001b[0;34m(*args, **kwargs)\u001b[0m\n\u001b[1;32m     65\u001b[0m     \u001b[0;32mexcept\u001b[0m \u001b[0mException\u001b[0m \u001b[0;32mas\u001b[0m \u001b[0me\u001b[0m\u001b[0;34m:\u001b[0m  \u001b[0;31m# pylint: disable=broad-except\u001b[0m\u001b[0;34m\u001b[0m\u001b[0;34m\u001b[0m\u001b[0m\n\u001b[1;32m     66\u001b[0m       \u001b[0mfiltered_tb\u001b[0m \u001b[0;34m=\u001b[0m \u001b[0m_process_traceback_frames\u001b[0m\u001b[0;34m(\u001b[0m\u001b[0me\u001b[0m\u001b[0;34m.\u001b[0m\u001b[0m__traceback__\u001b[0m\u001b[0;34m)\u001b[0m\u001b[0;34m\u001b[0m\u001b[0;34m\u001b[0m\u001b[0m\n\u001b[0;32m---> 67\u001b[0;31m       \u001b[0;32mraise\u001b[0m \u001b[0me\u001b[0m\u001b[0;34m.\u001b[0m\u001b[0mwith_traceback\u001b[0m\u001b[0;34m(\u001b[0m\u001b[0mfiltered_tb\u001b[0m\u001b[0;34m)\u001b[0m \u001b[0;32mfrom\u001b[0m \u001b[0;32mNone\u001b[0m\u001b[0;34m\u001b[0m\u001b[0;34m\u001b[0m\u001b[0m\n\u001b[0m\u001b[1;32m     68\u001b[0m     \u001b[0;32mfinally\u001b[0m\u001b[0;34m:\u001b[0m\u001b[0;34m\u001b[0m\u001b[0;34m\u001b[0m\u001b[0m\n\u001b[1;32m     69\u001b[0m       \u001b[0;32mdel\u001b[0m \u001b[0mfiltered_tb\u001b[0m\u001b[0;34m\u001b[0m\u001b[0;34m\u001b[0m\u001b[0m\n",
            "\u001b[0;32m/usr/local/lib/python3.7/dist-packages/tensorflow/python/framework/func_graph.py\u001b[0m in \u001b[0;36mautograph_handler\u001b[0;34m(*args, **kwargs)\u001b[0m\n\u001b[1;32m   1145\u001b[0m           \u001b[0;32mexcept\u001b[0m \u001b[0mException\u001b[0m \u001b[0;32mas\u001b[0m \u001b[0me\u001b[0m\u001b[0;34m:\u001b[0m  \u001b[0;31m# pylint:disable=broad-except\u001b[0m\u001b[0;34m\u001b[0m\u001b[0;34m\u001b[0m\u001b[0m\n\u001b[1;32m   1146\u001b[0m             \u001b[0;32mif\u001b[0m \u001b[0mhasattr\u001b[0m\u001b[0;34m(\u001b[0m\u001b[0me\u001b[0m\u001b[0;34m,\u001b[0m \u001b[0;34m\"ag_error_metadata\"\u001b[0m\u001b[0;34m)\u001b[0m\u001b[0;34m:\u001b[0m\u001b[0;34m\u001b[0m\u001b[0;34m\u001b[0m\u001b[0m\n\u001b[0;32m-> 1147\u001b[0;31m               \u001b[0;32mraise\u001b[0m \u001b[0me\u001b[0m\u001b[0;34m.\u001b[0m\u001b[0mag_error_metadata\u001b[0m\u001b[0;34m.\u001b[0m\u001b[0mto_exception\u001b[0m\u001b[0;34m(\u001b[0m\u001b[0me\u001b[0m\u001b[0;34m)\u001b[0m\u001b[0;34m\u001b[0m\u001b[0;34m\u001b[0m\u001b[0m\n\u001b[0m\u001b[1;32m   1148\u001b[0m             \u001b[0;32melse\u001b[0m\u001b[0;34m:\u001b[0m\u001b[0;34m\u001b[0m\u001b[0;34m\u001b[0m\u001b[0m\n\u001b[1;32m   1149\u001b[0m               \u001b[0;32mraise\u001b[0m\u001b[0;34m\u001b[0m\u001b[0;34m\u001b[0m\u001b[0m\n",
            "\u001b[0;31mValueError\u001b[0m: in user code:\n\n    File \"/usr/local/lib/python3.7/dist-packages/keras/engine/training.py\", line 1021, in train_function  *\n        return step_function(self, iterator)\n    File \"/usr/local/lib/python3.7/dist-packages/keras/engine/training.py\", line 1010, in step_function  **\n        outputs = model.distribute_strategy.run(run_step, args=(data,))\n    File \"/usr/local/lib/python3.7/dist-packages/keras/engine/training.py\", line 1000, in run_step  **\n        outputs = model.train_step(data)\n    File \"/usr/local/lib/python3.7/dist-packages/keras/engine/training.py\", line 859, in train_step\n        y_pred = self(x, training=True)\n    File \"/usr/local/lib/python3.7/dist-packages/keras/utils/traceback_utils.py\", line 67, in error_handler\n        raise e.with_traceback(filtered_tb) from None\n    File \"/usr/local/lib/python3.7/dist-packages/keras/engine/input_spec.py\", line 264, in assert_input_compatibility\n        raise ValueError(f'Input {input_index} of layer \"{layer_name}\" is '\n\n    ValueError: Input 0 of layer \"sequential_3\" is incompatible with the layer: expected shape=(None, 40, 82), found shape=(128, 100)\n"
          ]
        }
      ],
      "source": [
        "history = model.fit(dataset, epochs=EPOCHS)"
      ]
    },
    {
      "cell_type": "markdown",
      "metadata": {
        "id": "9xgkr95J0KPl"
      },
      "source": [
        "## Examining loss"
      ]
    },
    {
      "cell_type": "code",
      "execution_count": 34,
      "metadata": {
        "colab": {
          "base_uri": "https://localhost:8080/",
          "height": 295
        },
        "id": "qM1sa91az3PT",
        "outputId": "37969d8a-3349-4427-be25-98b1d6c0642e"
      },
      "outputs": [
        {
          "output_type": "display_data",
          "data": {
            "text/plain": [
              "<Figure size 432x288 with 1 Axes>"
            ],
            "image/png": "[encoded data removed]"
          },
          "metadata": {
            "needs_background": "light"
          }
        }
      ],
      "source": [
        "plot_model_loss(history)\n"
      ]
    },
    {
      "cell_type": "markdown",
      "metadata": {
        "id": "hIRKXWsWHLyz"
      },
      "source": [
        "## Output\n",
        "Now that are model is trained and readied, its time to use it\n",
        "The next snippet uses our RNN model and generate some text!"
      ]
    },
    {
      "cell_type": "code",
      "execution_count": 36,
      "metadata": {
        "id": "MIVZwI7ufnBk"
      },
      "outputs": [],
      "source": [
        "class OneStep(tf.keras.Model):\n",
        "  def __init__(self, model, chars_from_ids, ids_from_chars, temperature=1.0):\n",
        "    super().__init__()\n",
        "    self.temperature = temperature\n",
        "    self.model = model\n",
        "    self.chars_from_ids = chars_from_ids\n",
        "    self.ids_from_chars = ids_from_chars\n",
        "\n",
        "    # Create a mask to prevent \"[UNK]\" from being generated.\n",
        "    skip_ids = self.ids_from_chars(['[UNK]'])[:, None]\n",
        "    sparse_mask = tf.SparseTensor(\n",
        "        # Put a -inf at each bad index.\n",
        "        values=[-float('inf')]*len(skip_ids),\n",
        "        indices=skip_ids,\n",
        "        # Match the shape to the vocabulary\n",
        "        dense_shape=[len(ids_from_chars.get_vocabulary())])\n",
        "    self.prediction_mask = tf.sparse.to_dense(sparse_mask)\n",
        "\n",
        "  @tf.function\n",
        "  def generate_one_step(self, inputs, states=None):\n",
        "    # Convert strings to token IDs.\n",
        "    input_chars = tf.strings.unicode_split(inputs, 'UTF-8')\n",
        "    input_ids = self.ids_from_chars(input_chars).to_tensor()\n",
        "\n",
        "    # Run the model.\n",
        "    # predicted_logits.shape is [batch, char, next_char_logits]\n",
        "    predicted_logits, states = self.model(inputs=input_ids, states=states,\n",
        "                                          return_state=True)\n",
        "    # Only use the last prediction.\n",
        "    predicted_logits = predicted_logits[:, -1, :]\n",
        "    predicted_logits = predicted_logits/self.temperature\n",
        "    # Apply the prediction mask: prevent \"[UNK]\" from being generated.\n",
        "    predicted_logits = predicted_logits + self.prediction_mask\n",
        "\n",
        "    # Sample the output logits to generate token IDs.\n",
        "    predicted_ids = tf.random.categorical(predicted_logits, num_samples=1)\n",
        "    predicted_ids = tf.squeeze(predicted_ids, axis=-1)\n",
        "\n",
        "    # Convert from token ids to characters\n",
        "    predicted_chars = self.chars_from_ids(predicted_ids)\n",
        "\n",
        "    # Return the characters and model state.\n",
        "    return predicted_chars, states\n",
        "    \n",
        "one_step_model = OneStep(model, chars_from_ids, ids_from_chars)"
      ]
    },
    {
      "cell_type": "code",
      "execution_count": null,
      "metadata": {
        "colab": {
          "base_uri": "https://localhost:8080/"
        },
        "id": "NefKWCZ6ftnu",
        "outputId": "9a47be5a-049e-4e77-a1c4-16471b2ac4cc"
      },
      "outputs": [
        {
          "output_type": "stream",
          "name": "stdout",
          "text": [
            "Joyce: now country set crossles hospitality hand anrows misers suturity said coming uspers leave hes cobrain telegraph late touches like man want pounds exnibbed purchased lips office put home being fox feignd nobods never cuase ehately long wrecked foostate possibly atepred him live anything plemie lovely stage victoing barney kiss hair struggle thoremall character shoulder glanced jies certain extendion life went teach see grave ireland black cool was life chiteen how think sir brought upstair miscreabily long you away heal liverpoke that armsback lelt ask woman remove hall owes again you ill go said mr holo fading round clag human fingers rapidly anyway light game decided van minds easily written following white right faces put bit cat recloning concert boots existence tenrest beceated allowing cowsides inner obviating pedished relation wrence mulligan gates cup browners possess castole then bread skin assitation new unable remark things elevated dedalus constablesion vienness arrive prope \n",
            "\n",
            "________________________________________________________________________________\n",
            "\n",
            "Run time: 3.51639723777771\n"
          ]
        }
      ],
      "source": [
        "start = time.time()\n",
        "states = None\n",
        "next_char = tf.constant(['Joyce: '])\n",
        "result = [next_char]\n",
        "\n",
        "for n in range(1000):\n",
        "  next_char, states = one_step_model.generate_one_step(next_char, states=states)\n",
        "  result.append(next_char)\n",
        "\n",
        "result = tf.strings.join(result)\n",
        "end = time.time()\n",
        "print(result[0].numpy().decode('utf-8'), '\\n\\n' + '_'*80)\n",
        "print('\\nRun time:', end - start)"
      ]
    },
    {
      "cell_type": "markdown",
      "metadata": {
        "id": "lNOZh7WO1Rqz"
      },
      "source": [
        "## LSTM Basded Model\n",
        "keras.layers.LSTM -> keras.layers.Dense"
      ]
    },
    {
      "cell_type": "code",
      "source": [
        "def create_book_df():\n",
        "  book_list = [fold for file, der, fold in os.walk(\"book_project/\")][0]\n",
        "  books_df = pandas.DataFrame(columns=[\"book_name\", \"text\"])\n",
        "  for book in book_list:\n",
        "      with open(f\"book_project/{book}\", encoding=\"utf-8\") as book_file:\n",
        "          cleaned = clean_book(book_file)\n",
        "          books_df = books_df.append({\"book_name\": book, \"text\": cleaned}, ignore_index=True)\n",
        "  books_df[\"cleaned_description\"] = books_df.apply(lambda book_row: remove_non_ascii(book_row), axis=1)\n",
        "  return books_df\n",
        "\n",
        "\n",
        "books_df = create_book_df()\n",
        "\n",
        "all_words = \"\"\n",
        "for index, row in books_df.iterrows():\n",
        "    all_words += row[\"cleaned_description\"]\n",
        "\n",
        "vocab = sorted(set(all_words))\n",
        "print(f\"{len(vocab)} unique characters\")"
      ],
      "metadata": {
        "colab": {
          "base_uri": "https://localhost:8080/"
        },
        "id": "o3XqrcpF3mUh",
        "outputId": "0107b3b2-bf30-4bbb-fbca-679592aade95"
      },
      "execution_count": 20,
      "outputs": [
        {
          "output_type": "stream",
          "name": "stdout",
          "text": [
            "82 unique characters\n"
          ]
        }
      ]
    },
    {
      "cell_type": "code",
      "source": [
        "print(\"Corpus length:\", len(all_words))\n",
        "\n",
        "chars = sorted(list(set(all_words)))\n",
        "print(\"Total chars:\", len(chars))\n",
        "char_indices = dict((c, i) for i, c in enumerate(chars))\n",
        "indices_char = dict((i, c) for i, c in enumerate(chars))\n",
        "\n",
        "# cut the text in semi-redundant sequences of maxlen characters\n",
        "maxlen = 40\n",
        "step = 3\n",
        "sentences = []\n",
        "next_chars = []\n",
        "for i in range(0, len(all_words) - maxlen, step):\n",
        "    sentences.append(all_words[i : i + maxlen])\n",
        "    next_chars.append(all_words[i + maxlen])\n",
        "print(\"Number of sequences:\", len(sentences))\n",
        "\n",
        "x = numpy.zeros((len(sentences), maxlen, len(chars)), dtype=numpy.bool)\n",
        "y = numpy.zeros((len(sentences), len(chars)), dtype=numpy.bool)\n",
        "for i, sentence in enumerate(sentences):\n",
        "    for t, char in enumerate(sentence):\n",
        "        x[i, t, char_indices[char]] = 1\n",
        "    y[i, char_indices[next_chars[i]]] = 1\n"
      ],
      "metadata": {
        "colab": {
          "base_uri": "https://localhost:8080/"
        },
        "id": "YCyg0w_m0bEt",
        "outputId": "dbaea933-77aa-41f8-9c07-abc07de06c4b"
      },
      "execution_count": 44,
      "outputs": [
        {
          "output_type": "stream",
          "name": "stdout",
          "text": [
            "Corpus length: 2500877\n",
            "Total chars: 82\n",
            "Number of sequences: 833613\n"
          ]
        },
        {
          "output_type": "stream",
          "name": "stderr",
          "text": [
            "/usr/local/lib/python3.7/dist-packages/ipykernel_launcher.py:18: DeprecationWarning: `np.bool` is a deprecated alias for the builtin `bool`. To silence this warning, use `bool` by itself. Doing this will not modify any behavior and is safe. If you specifically wanted the numpy scalar type, use `np.bool_` here.\n",
            "Deprecated in NumPy 1.20; for more details and guidance: https://numpy.org/devdocs/release/1.20.0-notes.html#deprecations\n",
            "/usr/local/lib/python3.7/dist-packages/ipykernel_launcher.py:19: DeprecationWarning: `np.bool` is a deprecated alias for the builtin `bool`. To silence this warning, use `bool` by itself. Doing this will not modify any behavior and is safe. If you specifically wanted the numpy scalar type, use `np.bool_` here.\n",
            "Deprecated in NumPy 1.20; for more details and guidance: https://numpy.org/devdocs/release/1.20.0-notes.html#deprecations\n"
          ]
        }
      ]
    },
    {
      "cell_type": "code",
      "source": [
        "def LSTM_based_model(rnn_units, loss, optimizer):\n",
        "  model = keras.Sequential(\n",
        "    [ keras.Input(shape=(maxlen, len(chars))),\n",
        "      LSTM(rnn_units),\n",
        "      Dense(len(chars), activation=\"softmax\"),\n",
        "    ])\n",
        "  model.compile(loss=loss, optimizer=optimizer)\n",
        "  return model"
      ],
      "metadata": {
        "id": "YAMNHqD11J2n"
      },
      "execution_count": 22,
      "outputs": []
    },
    {
      "cell_type": "code",
      "source": [
        "rnn_units = 128\n",
        "learning_rate=0.0005\n",
        "optimizer = keras.optimizers.RMSprop(learning_rate=learning_rate)\n",
        "loss=\"categorical_crossentropy\"\n",
        "model = LSTM_based_model(rnn_units, loss, optimizer)\n",
        "model.summary()"
      ],
      "metadata": {
        "colab": {
          "base_uri": "https://localhost:8080/"
        },
        "id": "-tpygJDh4KNM",
        "outputId": "1b78850d-bf50-4a4b-e49b-7489850d6ec4"
      },
      "execution_count": 31,
      "outputs": [
        {
          "output_type": "stream",
          "name": "stdout",
          "text": [
            "Model: \"sequential\"\n",
            "_________________________________________________________________\n",
            " Layer (type)                Output Shape              Param #   \n",
            "=================================================================\n",
            " lstm (LSTM)                 (None, 128)               108032    \n",
            "                                                                 \n",
            " dense_1 (Dense)             (None, 82)                10578     \n",
            "                                                                 \n",
            "=================================================================\n",
            "Total params: 118,610\n",
            "Trainable params: 118,610\n",
            "Non-trainable params: 0\n",
            "_________________________________________________________________\n"
          ]
        }
      ]
    },
    {
      "cell_type": "code",
      "source": [
        "def sample(preds, temperature=1.0):\n",
        "  # helper function to sample an index from a probability array\n",
        "  preds = numpy.asarray(preds).astype(\"float64\")\n",
        "  preds = numpy.log(preds) / temperature\n",
        "  exp_preds = numpy.exp(preds)\n",
        "  preds = exp_preds / numpy.sum(exp_preds)\n",
        "  probas = numpy.random.multinomial(1, preds, 1)\n",
        "  return numpy.argmax(probas)"
      ],
      "metadata": {
        "id": "Y0prm6yZ1d_R"
      },
      "execution_count": 23,
      "outputs": []
    },
    {
      "cell_type": "code",
      "execution_count": 35,
      "metadata": {
        "colab": {
          "base_uri": "https://localhost:8080/"
        },
        "id": "7UtesRgywdWt",
        "outputId": "d8f4f159-fd25-460e-8dd2-672e69e138a8"
      },
      "outputs": [
        {
          "output_type": "stream",
          "name": "stdout",
          "text": [
            "Epoch 1/10\n",
            "6513/6513 [==============================] - 70s 11ms/step - loss: 1.8976\n",
            "Epoch 2/10\n",
            "6513/6513 [==============================] - 73s 11ms/step - loss: 1.8347\n",
            "Epoch 3/10\n",
            "6513/6513 [==============================] - 72s 11ms/step - loss: 1.7880\n",
            "Epoch 4/10\n",
            "6513/6513 [==============================] - 71s 11ms/step - loss: 1.7528\n",
            "Epoch 5/10\n",
            "6513/6513 [==============================] - 71s 11ms/step - loss: 1.7243\n",
            "Epoch 6/10\n",
            "6513/6513 [==============================] - 71s 11ms/step - loss: 1.7024\n",
            "Epoch 7/10\n",
            "6513/6513 [==============================] - 70s 11ms/step - loss: 1.6842\n",
            "Epoch 8/10\n",
            "6513/6513 [==============================] - 71s 11ms/step - loss: 1.6683\n",
            "Epoch 9/10\n",
            "6513/6513 [==============================] - 71s 11ms/step - loss: 1.6553\n",
            "Epoch 10/10\n",
            "6513/6513 [==============================] - 72s 11ms/step - loss: 1.6435\n",
            "<keras.callbacks.History object at 0x7f8f37f22f10>\n"
          ]
        }
      ],
      "source": [
        "import random\n",
        "EPOCHS = 10\n",
        "batch_size = 128\n",
        "\n",
        "history = model.fit(x, y, batch_size=batch_size, epochs=EPOCHS)\n",
        "print(history)\n"
      ]
    },
    {
      "cell_type": "code",
      "source": [
        "plot_model_loss(history)"
      ],
      "metadata": {
        "colab": {
          "base_uri": "https://localhost:8080/",
          "height": 295
        },
        "id": "dhrnxaQyAd6Y",
        "outputId": "1613708b-621a-4c51-8d6b-384d0b410e4a"
      },
      "execution_count": 36,
      "outputs": [
        {
          "output_type": "display_data",
          "data": {
            "text/plain": [
              "<Figure size 432x288 with 1 Axes>"
            ],
            "image/png": "[encoded data removed]"
          },
          "metadata": {
            "needs_background": "light"
          }
        }
      ]
    },
    {
      "cell_type": "code",
      "source": [
        "start_index = random.randint(0, len(all_words) - maxlen - 1)\n",
        "for diversity in [0.2]:\n",
        "    print(\"...Diversity:\", diversity)\n",
        "\n",
        "    generated = \"\"\n",
        "    sentence = all_words[start_index : start_index + maxlen]\n",
        "    print('...Generating with seed: \"' + sentence + '\"')\n",
        "\n",
        "    for i in range(1000):\n",
        "        x_pred = numpy.zeros((1, maxlen, len(chars)))\n",
        "        for t, char in enumerate(sentence):\n",
        "            x_pred[0, t, char_indices[char]] = 1.0\n",
        "        preds = model.predict(x_pred, verbose=0)[0]\n",
        "        next_index = sample(preds, diversity)\n",
        "        next_char = indices_char[next_index]\n",
        "        sentence = sentence[1:] + next_char\n",
        "        generated += next_char\n",
        "\n",
        "    print(\"...Generated: \", generated)\n",
        "    print()"
      ],
      "metadata": {
        "colab": {
          "base_uri": "https://localhost:8080/"
        },
        "id": "-uxZ4Tnv6dmT",
        "outputId": "2b8c14d7-2267-4fa6-82e0-777b4c3f0bcd"
      },
      "execution_count": 39,
      "outputs": [
        {
          "output_type": "stream",
          "name": "stdout",
          "text": [
            "...Diversity: 0.2\n",
            "...Generating with seed: \"amber, Black Rod,\n",
            "Deputy Garter, Gold St\"\n",
            "...Generated:  ephen said. They would the morning and the some of the sear of the stand of the soul and the tries of the state of the stander of the counter of the took of the strange of the country of the standing of the speen of the the reason of the speak of the stand of the stand of the stand of the stand of the stander of the course and the stand of the partion of the counter of the first of the constant of the stand of the words of the stand of the could and the said of the suns of the some of the sale of the shoulder and the soul and the stand of the constant the contract of the stand of the counter of the stander of the stand of the stand of the partain of the bright of the stand of the stand of the stander of the stand of the constant to the the soul and the first the course the stander of the stands of the stander of the stand of the sear of the stand of the stand of the soul of his eyes of the part of the stand of the stand of the body and the stand of the stare of the sail\n",
            "of his seemed t\n",
            "\n"
          ]
        }
      ]
    },
    {
      "cell_type": "code",
      "source": [
        "rnn_units = 256\n",
        "learning_rate=0.0001\n",
        "optimizer = keras.optimizers.RMSprop(learning_rate=learning_rate)\n",
        "loss=\"categorical_crossentropy\"\n",
        "model = LSTM_based_model(rnn_units, loss, optimizer)\n",
        "model.summary()"
      ],
      "metadata": {
        "colab": {
          "base_uri": "https://localhost:8080/"
        },
        "id": "dAx4g-ZFFVOP",
        "outputId": "ca02bb24-dac8-42ab-c59a-0195687b96be"
      },
      "execution_count": 41,
      "outputs": [
        {
          "output_type": "stream",
          "name": "stdout",
          "text": [
            "Model: \"sequential_1\"\n",
            "_________________________________________________________________\n",
            " Layer (type)                Output Shape              Param #   \n",
            "=================================================================\n",
            " lstm_1 (LSTM)               (None, 256)               347136    \n",
            "                                                                 \n",
            " dense_2 (Dense)             (None, 82)                21074     \n",
            "                                                                 \n",
            "=================================================================\n",
            "Total params: 368,210\n",
            "Trainable params: 368,210\n",
            "Non-trainable params: 0\n",
            "_________________________________________________________________\n"
          ]
        }
      ]
    },
    {
      "cell_type": "code",
      "source": [
        "import random\n",
        "epochs = 10\n",
        "sub_epoch = 1\n",
        "batch_size = 128\n",
        "\n",
        "for epoch in range(epochs):\n",
        "  model.fit(x, y, batch_size=batch_size, epochs=sub_epoch)\n",
        "  print()\n",
        "  print(\"Generating text after epoch: %d\" % epoch)\n",
        "\n",
        "  start_index = random.randint(0, len(all_words) - maxlen - 1)\n",
        "  for diversity in [0.3]:\n",
        "      print(\"...Diversity:\", diversity)\n",
        "\n",
        "      generated = \"\"\n",
        "      sentence = all_words[start_index : start_index + maxlen]\n",
        "      print('...Generating with seed: \"' + sentence + '\"')\n",
        "\n",
        "      for i in range(400):\n",
        "          x_pred = numpy.zeros((1, maxlen, len(chars)))\n",
        "          for t, char in enumerate(sentence):\n",
        "              x_pred[0, t, char_indices[char]] = 1.0\n",
        "          preds = model.predict(x_pred, verbose=0)[0]\n",
        "          next_index = sample(preds, diversity)\n",
        "          next_char = indices_char[next_index]\n",
        "          sentence = sentence[1:] + next_char\n",
        "          generated += next_char\n",
        "\n",
        "      print(\"...Generated: \", generated)\n",
        "      print()"
      ],
      "metadata": {
        "colab": {
          "base_uri": "https://localhost:8080/"
        },
        "id": "oCiRMP61FJ_D",
        "outputId": "f4a124bb-4e8b-4283-c3de-f0437a9166cb"
      },
      "execution_count": 42,
      "outputs": [
        {
          "output_type": "stream",
          "name": "stdout",
          "text": [
            "6513/6513 [==============================] - 109s 16ms/step - loss: 2.7456\n",
            "\n",
            "Generating text after epoch: 0\n",
            "...Diversity: 0.3\n",
            "...Generating with seed: \",\n",
            "under its screen, his eyes looked quic\"\n",
            "...Generated:  e the rere the ware ante the the he the the ther and wathe s and the her and and the and and wore the whe the ware sor the the sore the ther the the the the s and the berere and the sare the the ther fore his and the sore the the sale the he lout the the sint an the the and sithe an the the and the soithe the ther and the the the sare the war ang out and the care the the the the the sare terer and\n",
            "\n",
            "6513/6513 [==============================] - 101s 15ms/step - loss: 2.3602\n",
            "\n",
            "Generating text after epoch: 1\n",
            "...Diversity: 0.3\n",
            "...Generating with seed: \"\n",
            "the porters up in him so says I just to\"\n",
            "...Generated:   the call at the ther wath the the the sand the couthe the wathe the cour on the pangert the ald and and and the and whe has southe souce the calle the cand of and soing the sither sad the sered and the sing the sald the the simen the paine for and the dat the lang and of the sand and the coure and the sing the sille soud sile that and and the the ther wint and the paren and the singer suthe sald \n",
            "\n",
            "6513/6513 [==============================] - 88s 14ms/step - loss: 2.2378\n",
            "\n",
            "Generating text after epoch: 2\n",
            "...Diversity: 0.3\n",
            "...Generating with seed: \" to a\n",
            "military review in the park.\n",
            "\n",
            "The \"\n",
            "...Generated:  wass wat he wat the hat he sad soud the bean the surpe to the brous and the cound for his and wat the could the all the same the has hear to the sall wather and won he wat the far the could the douth the was and she blow the sad the the pare the and the sald and wath the has wat the ward of the was store han the said the pand of the sall cound the wist the sall the last of the mand of the parse an\n",
            "\n",
            "6513/6513 [==============================] - 112s 17ms/step - loss: 2.1517\n",
            "\n",
            "Generating text after epoch: 3\n",
            "...Diversity: 0.3\n",
            "...Generating with seed: \"Tell him a tale of woe about arrears\n",
            "of \"\n",
            "...Generated:  the sours of the parse the the was he was the waid dean the and and he was the hat the fore the said and the cand of the minter and and the for the store stome the was and the cours and the coust of the his to the wather him the ward hat he beat of the seant in the coull and to the stien the sart of the hand and the sare of the sind on the sagre the was the the gat of the could and wat the the cou\n",
            "\n",
            "6513/6513 [==============================] - 87s 13ms/step - loss: 2.0845\n",
            "\n",
            "Generating text after epoch: 4\n",
            "...Diversity: 0.3\n",
            "...Generating with seed: \"o people like that nowadays full up of e\"\n",
            "...Generated:  res the ward of the was was and to the beat of the said the corles of the couther and the\n",
            "sinters and the pares and he was she pores of the rast of the cond of the reat and the ond he had was the reas the fare of the beat of the rainted and the canter of the cound and a the beat of a minting of the reat of the gores and the sinter of the singhe of the rought and the panting and the said of the cou\n",
            "\n",
            "6513/6513 [==============================] - 89s 14ms/step - loss: 2.0301\n",
            "\n",
            "Generating text after epoch: 5\n",
            "...Diversity: 0.3\n",
            "...Generating with seed: \"heyll all\n",
            "know at 50 they dont know how \"\n",
            "...Generated:  a man the fore of the rimet on the sinter and the rount of his sind the lood of the siont of a the could of the reating her of the was of the corlon of the beat of the corse the said the her and the fored and the fill of a sour and the fore the back of the said of the said of her and the had the courd of the reat and the fore his and the had and the back the rowe the pores on the cores of the corl\n",
            "\n",
            "6513/6513 [==============================] - 87s 13ms/step - loss: 1.9853\n",
            "\n",
            "Generating text after epoch: 6\n",
            "...Diversity: 0.3\n",
            "...Generating with seed: \" too. Attract men, small thing like that\"\n",
            "...Generated:   was the come of the rome to be the bery the could and stat and she had and the beal of the said and the could and the said of the sand of the rome of her and the with a was the rist of the her was a cond was in the some of the come of the called in the could and the sould of the some of the reat of the round and the rould and the sind he was not and the lat lith and listed his have and the has fo\n",
            "\n",
            "6513/6513 [==============================] - 89s 14ms/step - loss: 1.9468\n",
            "\n",
            "Generating text after epoch: 7\n",
            "...Diversity: 0.3\n",
            "...Generating with seed: \" Francis Dennehy, 17\n",
            "Church street, Enni\"\n",
            "...Generated:  nghan as a bect of the course of her the said and the pare and still the said the pane of the mant was the conder of the stull of the coment of the bead of the come and said the can of the care and\n",
            "me of the fire of the still was a dind and the sour and and the care of the store of his\n",
            "fare and the seart of the core and the prees and the said the panter and the said of the still his for her had th\n",
            "\n",
            "6513/6513 [==============================] - 87s 13ms/step - loss: 1.9139\n",
            "\n",
            "Generating text after epoch: 8\n",
            "...Diversity: 0.3\n",
            "...Generating with seed: \"hough shes a factory lass\n",
            "     And wears\"\n",
            "...Generated:   the marting on ore son a to the sime of the cond of the book of the reat of the wast of the sine of the floom of the some of the ber and of the said and the bect of the stare of the sand and the said the said the stile of the said of the sear\n",
            "she the said the man of the sand he said the stare of the sime of the was and the sid the sement of the stan of the sume of the fire and the scoul of the fa\n",
            "\n",
            "6513/6513 [==============================] - 87s 13ms/step - loss: 1.8849\n",
            "\n",
            "Generating text after epoch: 9\n",
            "...Diversity: 0.3\n",
            "...Generating with seed: \" at half past four.\n",
            "Dust. Shark liver oi\"\n",
            "...Generated:  t of the pectors of the courte of a secting and the stall of and the could of the stanter of the street was and her sone he had booked her to see the stare of the cand of the the said the some to the stroes of the\n",
            "stiles of his not with a shaw the prape of the stopers of his souther.\n",
            "\n",
            "He was a pooner comes and soursed his book and to the sand of the corners of the sand of the compors of the plose \n",
            "\n"
          ]
        }
      ]
    },
    {
      "cell_type": "code",
      "source": [
        "index = [0,1,2,3,4,5,6,7,8,9]\n",
        "losses = [2.7456, 2.3602, 2.2378, 2.1517, 2.0845, 2.0301, 1.9853, 1.9468, 1.9139, 1.8849]\n",
        "plt.plot(index, losses)\n",
        "plt.show()"
      ],
      "metadata": {
        "colab": {
          "base_uri": "https://localhost:8080/",
          "height": 265
        },
        "id": "RMifmYbAOt6e",
        "outputId": "c4395dbc-60d4-46ab-afb0-7148368d65ea"
      },
      "execution_count": 49,
      "outputs": [
        {
          "output_type": "display_data",
          "data": {
            "text/plain": [
              "<Figure size 432x288 with 1 Axes>"
            ],
            "image/png": "[encoded data removed]"
          },
          "metadata": {
            "needs_background": "light"
          }
        }
      ]
    },
    {
      "cell_type": "code",
      "source": [
        "rnn_units = 1024\n",
        "learning_rate=0.00001\n",
        "batch_size=64\n",
        "optimizer = keras.optimizers.RMSprop(learning_rate=learning_rate)\n",
        "loss=\"categorical_crossentropy\"\n",
        "model = LSTM_based_model(rnn_units, loss, optimizer)\n",
        "model.summary()"
      ],
      "metadata": {
        "colab": {
          "base_uri": "https://localhost:8080/"
        },
        "id": "qjJVelCNQ4cR",
        "outputId": "16e1c356-f9c2-42e5-fa50-c36119c9d351"
      },
      "execution_count": 28,
      "outputs": [
        {
          "output_type": "stream",
          "name": "stdout",
          "text": [
            "Model: \"sequential_2\"\n",
            "_________________________________________________________________\n",
            " Layer (type)                Output Shape              Param #   \n",
            "=================================================================\n",
            " lstm_2 (LSTM)               (None, 1024)              4534272   \n",
            "                                                                 \n",
            " dense_2 (Dense)             (None, 82)                84050     \n",
            "                                                                 \n",
            "=================================================================\n",
            "Total params: 4,618,322\n",
            "Trainable params: 4,618,322\n",
            "Non-trainable params: 0\n",
            "_________________________________________________________________\n"
          ]
        }
      ]
    },
    {
      "cell_type": "code",
      "source": [
        "history =model.fit(x, y, batch_size=batch_size, epochs=10)"
      ],
      "metadata": {
        "colab": {
          "base_uri": "https://localhost:8080/",
          "height": 433
        },
        "id": "kFpv3c99RAMZ",
        "outputId": "818539c2-eb9a-4f89-cf96-26cf8bbe43b7"
      },
      "execution_count": 29,
      "outputs": [
        {
          "output_type": "stream",
          "name": "stdout",
          "text": [
            "Epoch 1/10\n",
            "13026/13026 [==============================] - 376s 29ms/step - loss: 3.0656\n",
            "Epoch 2/10\n",
            "13026/13026 [==============================] - 374s 29ms/step - loss: 2.7436\n",
            "Epoch 3/10\n",
            " 5797/13026 [============>.................] - ETA: 3:27 - loss: 2.5851"
          ]
        },
        {
          "output_type": "error",
          "ename": "KeyboardInterrupt",
          "evalue": "ignored",
          "traceback": [
            "\u001b[0;31m---------------------------------------------------------------------------\u001b[0m",
            "\u001b[0;31mKeyboardInterrupt\u001b[0m                         Traceback (most recent call last)",
            "\u001b[0;32m<ipython-input-29-b6f80884c273>\u001b[0m in \u001b[0;36m<module>\u001b[0;34m\u001b[0m\n\u001b[0;32m----> 1\u001b[0;31m \u001b[0mhistory\u001b[0m \u001b[0;34m=\u001b[0m\u001b[0mmodel\u001b[0m\u001b[0;34m.\u001b[0m\u001b[0mfit\u001b[0m\u001b[0;34m(\u001b[0m\u001b[0mx\u001b[0m\u001b[0;34m,\u001b[0m \u001b[0my\u001b[0m\u001b[0;34m,\u001b[0m \u001b[0mbatch_size\u001b[0m\u001b[0;34m=\u001b[0m\u001b[0mbatch_size\u001b[0m\u001b[0;34m,\u001b[0m \u001b[0mepochs\u001b[0m\u001b[0;34m=\u001b[0m\u001b[0;36m10\u001b[0m\u001b[0;34m)\u001b[0m\u001b[0;34m\u001b[0m\u001b[0;34m\u001b[0m\u001b[0m\n\u001b[0m",
            "\u001b[0;32m/usr/local/lib/python3.7/dist-packages/keras/utils/traceback_utils.py\u001b[0m in \u001b[0;36merror_handler\u001b[0;34m(*args, **kwargs)\u001b[0m\n\u001b[1;32m     62\u001b[0m     \u001b[0mfiltered_tb\u001b[0m \u001b[0;34m=\u001b[0m \u001b[0;32mNone\u001b[0m\u001b[0;34m\u001b[0m\u001b[0;34m\u001b[0m\u001b[0m\n\u001b[1;32m     63\u001b[0m     \u001b[0;32mtry\u001b[0m\u001b[0;34m:\u001b[0m\u001b[0;34m\u001b[0m\u001b[0;34m\u001b[0m\u001b[0m\n\u001b[0;32m---> 64\u001b[0;31m       \u001b[0;32mreturn\u001b[0m \u001b[0mfn\u001b[0m\u001b[0;34m(\u001b[0m\u001b[0;34m*\u001b[0m\u001b[0margs\u001b[0m\u001b[0;34m,\u001b[0m \u001b[0;34m**\u001b[0m\u001b[0mkwargs\u001b[0m\u001b[0;34m)\u001b[0m\u001b[0;34m\u001b[0m\u001b[0;34m\u001b[0m\u001b[0m\n\u001b[0m\u001b[1;32m     65\u001b[0m     \u001b[0;32mexcept\u001b[0m \u001b[0mException\u001b[0m \u001b[0;32mas\u001b[0m \u001b[0me\u001b[0m\u001b[0;34m:\u001b[0m  \u001b[0;31m# pylint: disable=broad-except\u001b[0m\u001b[0;34m\u001b[0m\u001b[0;34m\u001b[0m\u001b[0m\n\u001b[1;32m     66\u001b[0m       \u001b[0mfiltered_tb\u001b[0m \u001b[0;34m=\u001b[0m \u001b[0m_process_traceback_frames\u001b[0m\u001b[0;34m(\u001b[0m\u001b[0me\u001b[0m\u001b[0;34m.\u001b[0m\u001b[0m__traceback__\u001b[0m\u001b[0;34m)\u001b[0m\u001b[0;34m\u001b[0m\u001b[0;34m\u001b[0m\u001b[0m\n",
            "\u001b[0;32m/usr/local/lib/python3.7/dist-packages/keras/engine/training.py\u001b[0m in \u001b[0;36mfit\u001b[0;34m(self, x, y, batch_size, epochs, verbose, callbacks, validation_split, validation_data, shuffle, class_weight, sample_weight, initial_epoch, steps_per_epoch, validation_steps, validation_batch_size, validation_freq, max_queue_size, workers, use_multiprocessing)\u001b[0m\n\u001b[1;32m   1382\u001b[0m                 _r=1):\n\u001b[1;32m   1383\u001b[0m               \u001b[0mcallbacks\u001b[0m\u001b[0;34m.\u001b[0m\u001b[0mon_train_batch_begin\u001b[0m\u001b[0;34m(\u001b[0m\u001b[0mstep\u001b[0m\u001b[0;34m)\u001b[0m\u001b[0;34m\u001b[0m\u001b[0;34m\u001b[0m\u001b[0m\n\u001b[0;32m-> 1384\u001b[0;31m               \u001b[0mtmp_logs\u001b[0m \u001b[0;34m=\u001b[0m \u001b[0mself\u001b[0m\u001b[0;34m.\u001b[0m\u001b[0mtrain_function\u001b[0m\u001b[0;34m(\u001b[0m\u001b[0miterator\u001b[0m\u001b[0;34m)\u001b[0m\u001b[0;34m\u001b[0m\u001b[0;34m\u001b[0m\u001b[0m\n\u001b[0m\u001b[1;32m   1385\u001b[0m               \u001b[0;32mif\u001b[0m \u001b[0mdata_handler\u001b[0m\u001b[0;34m.\u001b[0m\u001b[0mshould_sync\u001b[0m\u001b[0;34m:\u001b[0m\u001b[0;34m\u001b[0m\u001b[0;34m\u001b[0m\u001b[0m\n\u001b[1;32m   1386\u001b[0m                 \u001b[0mcontext\u001b[0m\u001b[0;34m.\u001b[0m\u001b[0masync_wait\u001b[0m\u001b[0;34m(\u001b[0m\u001b[0;34m)\u001b[0m\u001b[0;34m\u001b[0m\u001b[0;34m\u001b[0m\u001b[0m\n",
            "\u001b[0;32m/usr/local/lib/python3.7/dist-packages/tensorflow/python/util/traceback_utils.py\u001b[0m in \u001b[0;36merror_handler\u001b[0;34m(*args, **kwargs)\u001b[0m\n\u001b[1;32m    148\u001b[0m     \u001b[0mfiltered_tb\u001b[0m \u001b[0;34m=\u001b[0m \u001b[0;32mNone\u001b[0m\u001b[0;34m\u001b[0m\u001b[0;34m\u001b[0m\u001b[0m\n\u001b[1;32m    149\u001b[0m     \u001b[0;32mtry\u001b[0m\u001b[0;34m:\u001b[0m\u001b[0;34m\u001b[0m\u001b[0;34m\u001b[0m\u001b[0m\n\u001b[0;32m--> 150\u001b[0;31m       \u001b[0;32mreturn\u001b[0m \u001b[0mfn\u001b[0m\u001b[0;34m(\u001b[0m\u001b[0;34m*\u001b[0m\u001b[0margs\u001b[0m\u001b[0;34m,\u001b[0m \u001b[0;34m**\u001b[0m\u001b[0mkwargs\u001b[0m\u001b[0;34m)\u001b[0m\u001b[0;34m\u001b[0m\u001b[0;34m\u001b[0m\u001b[0m\n\u001b[0m\u001b[1;32m    151\u001b[0m     \u001b[0;32mexcept\u001b[0m \u001b[0mException\u001b[0m \u001b[0;32mas\u001b[0m \u001b[0me\u001b[0m\u001b[0;34m:\u001b[0m\u001b[0;34m\u001b[0m\u001b[0;34m\u001b[0m\u001b[0m\n\u001b[1;32m    152\u001b[0m       \u001b[0mfiltered_tb\u001b[0m \u001b[0;34m=\u001b[0m \u001b[0m_process_traceback_frames\u001b[0m\u001b[0;34m(\u001b[0m\u001b[0me\u001b[0m\u001b[0;34m.\u001b[0m\u001b[0m__traceback__\u001b[0m\u001b[0;34m)\u001b[0m\u001b[0;34m\u001b[0m\u001b[0;34m\u001b[0m\u001b[0m\n",
            "\u001b[0;32m/usr/local/lib/python3.7/dist-packages/tensorflow/python/eager/def_function.py\u001b[0m in \u001b[0;36m__call__\u001b[0;34m(self, *args, **kwds)\u001b[0m\n\u001b[1;32m    913\u001b[0m \u001b[0;34m\u001b[0m\u001b[0m\n\u001b[1;32m    914\u001b[0m       \u001b[0;32mwith\u001b[0m \u001b[0mOptionalXlaContext\u001b[0m\u001b[0;34m(\u001b[0m\u001b[0mself\u001b[0m\u001b[0;34m.\u001b[0m\u001b[0m_jit_compile\u001b[0m\u001b[0;34m)\u001b[0m\u001b[0;34m:\u001b[0m\u001b[0;34m\u001b[0m\u001b[0;34m\u001b[0m\u001b[0m\n\u001b[0;32m--> 915\u001b[0;31m         \u001b[0mresult\u001b[0m \u001b[0;34m=\u001b[0m \u001b[0mself\u001b[0m\u001b[0;34m.\u001b[0m\u001b[0m_call\u001b[0m\u001b[0;34m(\u001b[0m\u001b[0;34m*\u001b[0m\u001b[0margs\u001b[0m\u001b[0;34m,\u001b[0m \u001b[0;34m**\u001b[0m\u001b[0mkwds\u001b[0m\u001b[0;34m)\u001b[0m\u001b[0;34m\u001b[0m\u001b[0;34m\u001b[0m\u001b[0m\n\u001b[0m\u001b[1;32m    916\u001b[0m \u001b[0;34m\u001b[0m\u001b[0m\n\u001b[1;32m    917\u001b[0m       \u001b[0mnew_tracing_count\u001b[0m \u001b[0;34m=\u001b[0m \u001b[0mself\u001b[0m\u001b[0;34m.\u001b[0m\u001b[0mexperimental_get_tracing_count\u001b[0m\u001b[0;34m(\u001b[0m\u001b[0;34m)\u001b[0m\u001b[0;34m\u001b[0m\u001b[0;34m\u001b[0m\u001b[0m\n",
            "\u001b[0;32m/usr/local/lib/python3.7/dist-packages/tensorflow/python/eager/def_function.py\u001b[0m in \u001b[0;36m_call\u001b[0;34m(self, *args, **kwds)\u001b[0m\n\u001b[1;32m    945\u001b[0m       \u001b[0;31m# In this case we have created variables on the first call, so we run the\u001b[0m\u001b[0;34m\u001b[0m\u001b[0;34m\u001b[0m\u001b[0;34m\u001b[0m\u001b[0m\n\u001b[1;32m    946\u001b[0m       \u001b[0;31m# defunned version which is guaranteed to never create variables.\u001b[0m\u001b[0;34m\u001b[0m\u001b[0;34m\u001b[0m\u001b[0;34m\u001b[0m\u001b[0m\n\u001b[0;32m--> 947\u001b[0;31m       \u001b[0;32mreturn\u001b[0m \u001b[0mself\u001b[0m\u001b[0;34m.\u001b[0m\u001b[0m_stateless_fn\u001b[0m\u001b[0;34m(\u001b[0m\u001b[0;34m*\u001b[0m\u001b[0margs\u001b[0m\u001b[0;34m,\u001b[0m \u001b[0;34m**\u001b[0m\u001b[0mkwds\u001b[0m\u001b[0;34m)\u001b[0m  \u001b[0;31m# pylint: disable=not-callable\u001b[0m\u001b[0;34m\u001b[0m\u001b[0;34m\u001b[0m\u001b[0m\n\u001b[0m\u001b[1;32m    948\u001b[0m     \u001b[0;32melif\u001b[0m \u001b[0mself\u001b[0m\u001b[0;34m.\u001b[0m\u001b[0m_stateful_fn\u001b[0m \u001b[0;32mis\u001b[0m \u001b[0;32mnot\u001b[0m \u001b[0;32mNone\u001b[0m\u001b[0;34m:\u001b[0m\u001b[0;34m\u001b[0m\u001b[0;34m\u001b[0m\u001b[0m\n\u001b[1;32m    949\u001b[0m       \u001b[0;31m# Release the lock early so that multiple threads can perform the call\u001b[0m\u001b[0;34m\u001b[0m\u001b[0;34m\u001b[0m\u001b[0;34m\u001b[0m\u001b[0m\n",
            "\u001b[0;32m/usr/local/lib/python3.7/dist-packages/tensorflow/python/eager/function.py\u001b[0m in \u001b[0;36m__call__\u001b[0;34m(self, *args, **kwargs)\u001b[0m\n\u001b[1;32m   2955\u001b[0m        filtered_flat_args) = self._maybe_define_function(args, kwargs)\n\u001b[1;32m   2956\u001b[0m     return graph_function._call_flat(\n\u001b[0;32m-> 2957\u001b[0;31m         filtered_flat_args, captured_inputs=graph_function.captured_inputs)  # pylint: disable=protected-access\n\u001b[0m\u001b[1;32m   2958\u001b[0m \u001b[0;34m\u001b[0m\u001b[0m\n\u001b[1;32m   2959\u001b[0m   \u001b[0;34m@\u001b[0m\u001b[0mproperty\u001b[0m\u001b[0;34m\u001b[0m\u001b[0;34m\u001b[0m\u001b[0m\n",
            "\u001b[0;32m/usr/local/lib/python3.7/dist-packages/tensorflow/python/eager/function.py\u001b[0m in \u001b[0;36m_call_flat\u001b[0;34m(self, args, captured_inputs, cancellation_manager)\u001b[0m\n\u001b[1;32m   1852\u001b[0m       \u001b[0;31m# No tape is watching; skip to running the function.\u001b[0m\u001b[0;34m\u001b[0m\u001b[0;34m\u001b[0m\u001b[0;34m\u001b[0m\u001b[0m\n\u001b[1;32m   1853\u001b[0m       return self._build_call_outputs(self._inference_function.call(\n\u001b[0;32m-> 1854\u001b[0;31m           ctx, args, cancellation_manager=cancellation_manager))\n\u001b[0m\u001b[1;32m   1855\u001b[0m     forward_backward = self._select_forward_and_backward_functions(\n\u001b[1;32m   1856\u001b[0m         \u001b[0margs\u001b[0m\u001b[0;34m,\u001b[0m\u001b[0;34m\u001b[0m\u001b[0;34m\u001b[0m\u001b[0m\n",
            "\u001b[0;32m/usr/local/lib/python3.7/dist-packages/tensorflow/python/eager/function.py\u001b[0m in \u001b[0;36mcall\u001b[0;34m(self, ctx, args, cancellation_manager)\u001b[0m\n\u001b[1;32m    502\u001b[0m               \u001b[0minputs\u001b[0m\u001b[0;34m=\u001b[0m\u001b[0margs\u001b[0m\u001b[0;34m,\u001b[0m\u001b[0;34m\u001b[0m\u001b[0;34m\u001b[0m\u001b[0m\n\u001b[1;32m    503\u001b[0m               \u001b[0mattrs\u001b[0m\u001b[0;34m=\u001b[0m\u001b[0mattrs\u001b[0m\u001b[0;34m,\u001b[0m\u001b[0;34m\u001b[0m\u001b[0;34m\u001b[0m\u001b[0m\n\u001b[0;32m--> 504\u001b[0;31m               ctx=ctx)\n\u001b[0m\u001b[1;32m    505\u001b[0m         \u001b[0;32melse\u001b[0m\u001b[0;34m:\u001b[0m\u001b[0;34m\u001b[0m\u001b[0;34m\u001b[0m\u001b[0m\n\u001b[1;32m    506\u001b[0m           outputs = execute.execute_with_cancellation(\n",
            "\u001b[0;32m/usr/local/lib/python3.7/dist-packages/tensorflow/python/eager/execute.py\u001b[0m in \u001b[0;36mquick_execute\u001b[0;34m(op_name, num_outputs, inputs, attrs, ctx, name)\u001b[0m\n\u001b[1;32m     53\u001b[0m     \u001b[0mctx\u001b[0m\u001b[0;34m.\u001b[0m\u001b[0mensure_initialized\u001b[0m\u001b[0;34m(\u001b[0m\u001b[0;34m)\u001b[0m\u001b[0;34m\u001b[0m\u001b[0;34m\u001b[0m\u001b[0m\n\u001b[1;32m     54\u001b[0m     tensors = pywrap_tfe.TFE_Py_Execute(ctx._handle, device_name, op_name,\n\u001b[0;32m---> 55\u001b[0;31m                                         inputs, attrs, num_outputs)\n\u001b[0m\u001b[1;32m     56\u001b[0m   \u001b[0;32mexcept\u001b[0m \u001b[0mcore\u001b[0m\u001b[0;34m.\u001b[0m\u001b[0m_NotOkStatusException\u001b[0m \u001b[0;32mas\u001b[0m \u001b[0me\u001b[0m\u001b[0;34m:\u001b[0m\u001b[0;34m\u001b[0m\u001b[0;34m\u001b[0m\u001b[0m\n\u001b[1;32m     57\u001b[0m     \u001b[0;32mif\u001b[0m \u001b[0mname\u001b[0m \u001b[0;32mis\u001b[0m \u001b[0;32mnot\u001b[0m \u001b[0;32mNone\u001b[0m\u001b[0;34m:\u001b[0m\u001b[0;34m\u001b[0m\u001b[0;34m\u001b[0m\u001b[0m\n",
            "\u001b[0;31mKeyboardInterrupt\u001b[0m: "
          ]
        }
      ]
    },
    {
      "cell_type": "markdown",
      "metadata": {
        "id": "5wrP5am3Hk9_"
      },
      "source": [
        "# Expirements\n",
        "Starting from our data pre-processing, lets review how changes in the data affect our model.\n"
      ]
    },
    {
      "cell_type": "markdown",
      "metadata": {
        "id": "TZxAp9gMH2W6"
      },
      "source": [
        "## Do not remove punctuations\n",
        "Exploring our model output with puctuations."
      ]
    },
    {
      "cell_type": "code",
      "source": [
        "def create_book_df():\n",
        "  book_list = [fold for file, der, fold in os.walk(\"book_project/\")][0]\n",
        "  books_df = pandas.DataFrame(columns=[\"book_name\", \"text\"])\n",
        "  for book in book_list:\n",
        "      with open(f\"book_project/{book}\", encoding=\"utf-8\") as book_file:\n",
        "          cleaned = clean_book(book_file)\n",
        "          books_df = books_df.append({\"book_name\": book, \"text\": cleaned}, ignore_index=True)\n",
        "  books_df[\"cleaned_description\"] = books_df.apply(lambda book_row: remove_non_ascii(book_row), axis=1)\n",
        "  books_df[\"cleaned_description\"] = books_df.apply(lambda book_row: make_lower_case(book_row), axis=1)\n",
        "  books_df[\"cleaned_description\"] = books_df.cleaned_description.apply(remove_stop_words)\n",
        "  books_df[\"cleaned_description\"] = books_df.cleaned_description.apply(remove_multiple_spaces)\n",
        "  return books_df\n",
        "\n",
        "books_df = create_book_df()\n",
        "\n",
        "all_words = \"\"\n",
        "for index, row in books_df.iterrows():\n",
        "    all_words += row[\"cleaned_description\"]\n",
        "\n",
        "vocab = sorted(set(all_words))\n",
        "print(f\"{len(vocab)} unique characters\")\n",
        "\n",
        "from collections import Counter\n",
        "all_words_set = Counter(all_words.split())\n",
        "print(f\"Unique words: {len(all_words_set)}\")\n",
        "print(f\"Most frequnetly used words: {all_words_set.most_common(10)}\")\n",
        "top_ten_words = 0\n",
        "for word in all_words_set.most_common(10):\n",
        "  top_ten_words+= word[1]\n",
        "\n",
        "top_twenty_words = 0\n",
        "for word in all_words_set.most_common(20):\n",
        "  top_twenty_words+= word[1]\n",
        "print(f\"Top 10 words are {top_ten_words/len(all_words_set)*100}% of all words\")\n",
        "print(f\"Top 20 words are {top_twenty_words/len(all_words_set)*100}% of all words\")\n",
        "\n"
      ],
      "metadata": {
        "id": "ANSDv3BT3ZFj"
      },
      "execution_count": null,
      "outputs": []
    },
    {
      "cell_type": "code",
      "execution_count": null,
      "metadata": {
        "colab": {
          "base_uri": "https://localhost:8080/"
        },
        "id": "Cj0Cifa5H1kc",
        "outputId": "626af9bb-5226-42a3-ebd3-aba27e33f89f"
      },
      "outputs": [
        {
          "output_type": "stream",
          "name": "stdout",
          "text": [
            "54 unique characters\n",
            "Unique words: 54264\n",
            "Most frequnetly used words: [('mr', 1454), ('said', 1418), ('like', 1117), ('one', 1015), ('would', 938), ('old', 730), ('little', 647), ('said.', 629), ('could', 614), ('stephen', 554)]\n",
            "Top 10 words are 16.799351319475157% of all words\n",
            "Top 20 words are 25.630252100840334% of all words\n",
            "(128, 100, 55) # (batch_size, sequence_length, vocab_size)\n",
            "Prediction shape:  (128, 100, 55)  # (batch_size, sequence_length, vocab_size)\n",
            "Mean loss:         tf.Tensor(4.005956, shape=(), dtype=float32)\n",
            "Epoch 1/10\n",
            "134/134 [==============================] - 11s 62ms/step - loss: 2.7231\n",
            "Epoch 2/10\n",
            "134/134 [==============================] - 9s 61ms/step - loss: 2.2304\n",
            "Epoch 3/10\n",
            "134/134 [==============================] - 9s 61ms/step - loss: 2.0219\n",
            "Epoch 4/10\n",
            "134/134 [==============================] - 9s 61ms/step - loss: 1.8457\n",
            "Epoch 5/10\n",
            "134/134 [==============================] - 9s 61ms/step - loss: 1.7262\n",
            "Epoch 6/10\n",
            "134/134 [==============================] - 10s 66ms/step - loss: 1.6471\n",
            "Epoch 7/10\n",
            "134/134 [==============================] - 10s 62ms/step - loss: 1.5887\n",
            "Epoch 8/10\n",
            "134/134 [==============================] - 10s 63ms/step - loss: 1.5440\n",
            "Epoch 9/10\n",
            "134/134 [==============================] - 9s 61ms/step - loss: 1.5054\n",
            "Epoch 10/10\n",
            "134/134 [==============================] - 10s 62ms/step - loss: 1.4700\n",
            "Joyce: past: _(he stood.)_ flankly tockets know that. god knew for. jealousy, says jer. look wipe rid brush green looks. yours like get back glances. fact? says he. meant, sir. fixed miss high reach entered? poidle, also. rasinion here. want lib, know, fellow: workingtons one: hope like glance all, quickly, whores. broke triflely. encounted father went room. made look. passed away murmured doorway went waters. marian sixpencaplus. gradual cash, want trelular amang mary: happened me? chair usell wrong crossed spinning hat and, spoke dock! end think me. see chamber? little man. man. turn soul body injerestor, more? teption man. otherwise. may either going suddenly working rame woman slice _black dusky.)_ say it! broke pe, blood road lencth. rob? f. c.... haggy love seen know urging like am servedingjeat hell. history, lenehan catch eside lynch. fares. fighting cavage. listened too, mattered first. came gaze, rise eubody, hadnt left out. hell lionel constable. mr altarition particular face cheek \n",
            "\n",
            "________________________________________________________________________________\n",
            "\n",
            "Run time: 4.052944183349609\n"
          ]
        }
      ],
      "source": [
        "ids_from_chars = tf.keras.layers.StringLookup(\n",
        "    vocabulary=list(vocab), mask_token=None)\n",
        "\n",
        "chars_from_ids = tf.keras.layers.StringLookup(\n",
        "    vocabulary=ids_from_chars.get_vocabulary(), invert=True, mask_token=None)\n",
        "\n",
        "all_ids = ids_from_chars(tf.strings.unicode_split(all_words, 'UTF-8'))\n",
        "\n",
        "ids_dataset = tf.data.Dataset.from_tensor_slices(all_ids)\n",
        "\n",
        "seq_length = 100\n",
        "def split_input_target(sequence):\n",
        "    input_text = sequence[:-1]\n",
        "    target_text = sequence[1:]\n",
        "    return input_text, target_text\n",
        "    \n",
        "sequences = ids_dataset.batch(seq_length+1, drop_remainder=True)\n",
        "  \n",
        "dataset = sequences.map(split_input_target)\n",
        "dataset = (\n",
        "    dataset\n",
        "    .shuffle(BUFFER_SIZE)\n",
        "    .batch(BATCH_SIZE, drop_remainder=True)\n",
        "    .prefetch(tf.data.experimental.AUTOTUNE))\n",
        "\n",
        " # Length of the vocabulary in StringLookup Layer\n",
        "vocab_size = len(ids_from_chars.get_vocabulary())\n",
        "\n",
        "model_exp1 = MyModel(\n",
        "    vocab_size=vocab_size,\n",
        "    embedding_dim=embedding_dim,\n",
        "    rnn_units=rnn_units)\n",
        "\n",
        "sampled_indices = tf.random.categorical(example_batch_predictions[0], num_samples=1)\n",
        "sampled_indices = tf.squeeze(sampled_indices, axis=-1).numpy()\n",
        "\n",
        "for input_example_batch, target_example_batch in dataset.take(1):\n",
        "  example_batch_predictions = model_exp1(input_example_batch)\n",
        "  print(example_batch_predictions.shape, \"# (batch_size, sequence_length, vocab_size)\")\n",
        "\n",
        "example_batch_mean_loss = loss(target_example_batch, example_batch_predictions)\n",
        "print(\"Prediction shape: \", example_batch_predictions.shape, \" # (batch_size, sequence_length, vocab_size)\")\n",
        "print(\"Mean loss:        \", example_batch_mean_loss)\n",
        "\n",
        "\n",
        "model_exp1.compile(optimizer='adam', loss=loss)\n",
        "history = model_exp1.fit(dataset, epochs=EPOCHS, callbacks=[checkpoint_callback])\n",
        "one_step_model = OneStep(model_exp1, chars_from_ids, ids_from_chars)\n",
        "start = time.time()\n",
        "states = None\n",
        "next_char = tf.constant(['Joyce: '])\n",
        "result = [next_char]\n",
        "\n",
        "for n in range(1000):\n",
        "  next_char, states = one_step_model.generate_one_step(next_char, states=states)\n",
        "  result.append(next_char)\n",
        "\n",
        "result = tf.strings.join(result)\n",
        "end = time.time()\n",
        "print(result[0].numpy().decode('utf-8'), '\\n\\n' + '_'*80)\n",
        "print('\\nRun time:', end - start)"
      ]
    },
    {
      "cell_type": "markdown",
      "source": [
        "Notice the following pheno - \n",
        "Top 10 words are now ~16% of all words, while without puncatuations we see that\n",
        "top 10 words account for ~34% of all words.\n",
        "This is clear indication of Joyce's writing style.\n",
        "\n",
        "Lets continue explorint this direction."
      ],
      "metadata": {
        "id": "IezZD5UUk0sV"
      }
    },
    {
      "cell_type": "markdown",
      "metadata": {
        "id": "Nhz5-GJ6IM33"
      },
      "source": [
        "## Do not remove stop words"
      ]
    },
    {
      "cell_type": "code",
      "execution_count": null,
      "metadata": {
        "id": "STmpqP_uISbV",
        "colab": {
          "base_uri": "https://localhost:8080/"
        },
        "outputId": "bdc2d001-1f8f-4b5a-d314-bd83e8283bdb"
      },
      "outputs": [
        {
          "output_type": "stream",
          "name": "stdout",
          "text": [
            "55 unique characters\n",
            "Unique words: 54399\n",
            "Most frequnetly used words: [('the', 25794), ('of', 13517), ('and', 13096), ('a', 10418), ('to', 9143), ('in', 7685), ('he', 7370), ('his', 6402), ('i', 4672), ('was', 4379)]\n",
            "Top 10 words are 188.37846283939044% of all words\n",
            "Top 20 words are 245.19384547510063% of all words\n",
            "(128, 100, 56) # (batch_size, sequence_length, vocab_size)\n",
            "Prediction shape:  (128, 100, 56)  # (batch_size, sequence_length, vocab_size)\n",
            "Mean loss:         tf.Tensor(4.024408, shape=(), dtype=float32)\n",
            "Epoch 1/10\n",
            "192/192 [==============================] - 14s 60ms/step - loss: 2.5824\n",
            "Epoch 2/10\n",
            "192/192 [==============================] - 13s 60ms/step - loss: 2.0062\n",
            "Epoch 3/10\n",
            "192/192 [==============================] - 13s 60ms/step - loss: 1.7715\n",
            "Epoch 4/10\n",
            "192/192 [==============================] - 13s 63ms/step - loss: 1.6323\n",
            "Epoch 5/10\n",
            "192/192 [==============================] - 13s 60ms/step - loss: 1.5449\n",
            "Epoch 6/10\n",
            "192/192 [==============================] - 13s 61ms/step - loss: 1.4845\n",
            "Epoch 7/10\n",
            "192/192 [==============================] - 13s 60ms/step - loss: 1.4362\n",
            "Epoch 8/10\n",
            "192/192 [==============================] - 13s 60ms/step - loss: 1.3938\n",
            "Epoch 9/10\n",
            "192/192 [==============================] - 13s 60ms/step - loss: 1.3574\n",
            "Epoch 10/10\n",
            "192/192 [==============================] - 13s 60ms/step - loss: 1.3246\n",
            "Joyce: second case, mr bloom too into the wild unducking million suit, templa\n",
            "enthusiasch, and the brannantkerhouse of the venigins and smiles and\n",
            "scratches, i know, eppresses, lit and his buttoning clergymans uninour beds,\n",
            "twelve need. lady out of the bloodshouc, moses\n",
            "heart assurtly. monoured that bloodyth to kneel shop by two in the\n",
            "country earth. and the lamp with me. father: trembling my\n",
            "love is he ideal. i want to be his errents? bloom: im herse. pass i aught. jaud left in my consonel joysun! kin, malachi.\n",
            "bertha.\n",
            "[_lautly._] i have a freediff, how. if that was\n",
            "taking these could i chap? talk down, remind you, intervasis, the man whose shoes\n",
            "allmed with grey billys catcy today thee all liarping lights the diserographical prior and there was none\n",
            "upon my side of his own women and wysens hit her ears. proposea on\n",
            "to the point of arms gaityfully: whet you get them ug\n",
            "cold and sea, brigid.\n",
            "task all, now. they were not telling my clouded. work her hand? glory was the sun,\n",
            "pappia, and the wis \n",
            "\n",
            "________________________________________________________________________________\n",
            "\n",
            "Run time: 3.3521997928619385\n"
          ]
        }
      ],
      "source": [
        "def create_book_df():\n",
        "  book_list = [fold for file, der, fold in os.walk(\"book_project/\")][0]\n",
        "  books_df = pandas.DataFrame(columns=[\"book_name\", \"text\"])\n",
        "  for book in book_list:\n",
        "      with open(f\"book_project/{book}\", encoding=\"utf-8\") as book_file:\n",
        "          cleaned = clean_book(book_file)\n",
        "          books_df = books_df.append({\"book_name\": book, \"text\": cleaned}, ignore_index=True)\n",
        "  books_df[\"cleaned_description\"] = books_df.apply(lambda book_row: remove_non_ascii(book_row), axis=1)\n",
        "  books_df[\"cleaned_description\"] = books_df.apply(lambda book_row: make_lower_case(book_row), axis=1)\n",
        "  books_df[\"cleaned_description\"] = books_df.cleaned_description.apply(remove_multiple_spaces)\n",
        "  return books_df\n",
        "\n",
        "\n",
        "books_df = create_book_df()\n",
        "\n",
        "all_words = \"\"\n",
        "for index, row in books_df.iterrows():\n",
        "    all_words += row[\"cleaned_description\"]\n",
        "\n",
        "vocab = sorted(set(all_words))\n",
        "print(f\"{len(vocab)} unique characters\")\n",
        "\n",
        "from collections import Counter\n",
        "all_words_set = Counter(all_words.split())\n",
        "print(f\"Unique words: {len(all_words_set)}\")\n",
        "print(f\"Most frequnetly used words: {all_words_set.most_common(10)}\")\n",
        "top_ten_words = 0\n",
        "for word in all_words_set.most_common(10):\n",
        "  top_ten_words+= word[1]\n",
        "\n",
        "top_twenty_words = 0\n",
        "for word in all_words_set.most_common(20):\n",
        "  top_twenty_words+= word[1]\n",
        "print(f\"Top 10 words are {top_ten_words/len(all_words_set)*100}% of all words\")\n",
        "print(f\"Top 20 words are {top_twenty_words/len(all_words_set)*100}% of all words\")\n",
        "\n",
        "\n",
        "example_texts = ['abcdefg', 'xyz']\n",
        "chars = tf.strings.unicode_split(example_texts, input_encoding='UTF-8')\n",
        "\n",
        "\n",
        "ids_from_chars = tf.keras.layers.StringLookup(\n",
        "    vocabulary=list(vocab), mask_token=None)\n",
        "\n",
        "chars_from_ids = tf.keras.layers.StringLookup(\n",
        "    vocabulary=ids_from_chars.get_vocabulary(), invert=True, mask_token=None)\n",
        "\n",
        "all_ids = ids_from_chars(tf.strings.unicode_split(all_words, 'UTF-8'))\n",
        "\n",
        "ids_dataset = tf.data.Dataset.from_tensor_slices(all_ids)\n",
        "\n",
        "seq_length = 100\n",
        "def split_input_target(sequence):\n",
        "    input_text = sequence[:-1]\n",
        "    target_text = sequence[1:]\n",
        "    return input_text, target_text\n",
        "    \n",
        "sequences = ids_dataset.batch(seq_length+1, drop_remainder=True)\n",
        "  \n",
        "dataset = sequences.map(split_input_target)\n",
        "dataset = (\n",
        "    dataset\n",
        "    .shuffle(BUFFER_SIZE)\n",
        "    .batch(BATCH_SIZE, drop_remainder=True)\n",
        "    .prefetch(tf.data.experimental.AUTOTUNE))\n",
        "\n",
        " # Length of the vocabulary in StringLookup Layer\n",
        "vocab_size = len(ids_from_chars.get_vocabulary())\n",
        "\n",
        "model_exp1 = MyModel(\n",
        "    vocab_size=vocab_size,\n",
        "    embedding_dim=embedding_dim,\n",
        "    rnn_units=rnn_units)\n",
        "\n",
        "sampled_indices = tf.random.categorical(example_batch_predictions[0], num_samples=1)\n",
        "sampled_indices = tf.squeeze(sampled_indices, axis=-1).numpy()\n",
        "\n",
        "for input_example_batch, target_example_batch in dataset.take(1):\n",
        "  example_batch_predictions = model_exp1(input_example_batch)\n",
        "  print(example_batch_predictions.shape, \"# (batch_size, sequence_length, vocab_size)\")\n",
        "\n",
        "example_batch_mean_loss = loss(target_example_batch, example_batch_predictions)\n",
        "print(\"Prediction shape: \", example_batch_predictions.shape, \" # (batch_size, sequence_length, vocab_size)\")\n",
        "print(\"Mean loss:        \", example_batch_mean_loss)\n",
        "\n",
        "\n",
        "model_exp1.compile(optimizer='adam', loss=loss)\n",
        "history = model_exp1.fit(dataset, epochs=EPOCHS, callbacks=[checkpoint_callback])\n",
        "one_step_model = OneStep(model_exp1, chars_from_ids, ids_from_chars)\n",
        "start = time.time()\n",
        "states = None\n",
        "next_char = tf.constant(['Joyce: '])\n",
        "result = [next_char]\n",
        "\n",
        "for n in range(1000):\n",
        "  next_char, states = one_step_model.generate_one_step(next_char, states=states)\n",
        "  result.append(next_char)\n",
        "\n",
        "result = tf.strings.join(result)\n",
        "end = time.time()\n",
        "print(result[0].numpy().decode('utf-8'), '\\n\\n' + '_'*80)\n",
        "print('\\nRun time:', end - start)"
      ]
    },
    {
      "cell_type": "markdown",
      "source": [
        "# Observation\n",
        "\n",
        "The following is an input from a previous run of the model:"
      ],
      "metadata": {
        "id": "WddHjfUAne9Y"
      }
    },
    {
      "cell_type": "markdown",
      "source": [
        "Joyce: second case, mr bloom too into the wild unducking million suit, templa\n",
        "enthusiasch, and the brannantkerhouse of the venigins and smiles and\n",
        "scratches, i know, eppresses, lit and his buttoning clergymans uninour beds,\n",
        "twelve need. lady out of the bloodshouc, moses\n",
        "heart assurtly. monoured that bloodyth to kneel shop by two in the\n",
        "country earth. and the lamp with me. father: trembling my\n",
        "love is he ideal. i want to be his errents? bloom: im herse. pass i aught. jaud left in my consonel joysun! kin, malachi.\n",
        "\n",
        "bertha.\n",
        "\n",
        "[_lautly._] i have a freediff, how. \n",
        "if that was\n",
        "taking these could i chap? talk down, remind you, intervasis, the man whose shoes\n",
        "allmed with grey billys catcy today thee all liarping lights the diserographical prior and there was none\n",
        "upon my side of his own women and wysens hit her ears. proposea on\n",
        "to the point of arms gaityfully: whet you get them ug\n",
        "cold and sea, brigid.\n",
        "task all, now. they were not telling my clouded. work her hand? glory was the sun,\n",
        "pappia, and the wis \n"
      ],
      "metadata": {
        "id": "qvLrzPlnnnwT"
      }
    },
    {
      "cell_type": "markdown",
      "source": [
        "While the content is very sproadic and contains spelling errors, the strucutre is highly indicative of the author, for example the following text from Julysses -"
      ],
      "metadata": {
        "id": "uD3bjbjDnyj5"
      }
    },
    {
      "cell_type": "markdown",
      "source": [
        "_(She glides away crookedly. Mrs Breen in man’s frieze overcoat with\n",
        "loose bellows pockets, stands in the causeway, her roguish eyes\n",
        "wideopen, smiling in all her herbivorous buckteeth.)_\n",
        "\n",
        "MRS BREEN: Mr...\n",
        "\n",
        "BLOOM: _(Coughs gravely.)_ Madam, when we last had this pleasure by\n",
        "letter dated the sixteenth instant...\n",
        "\n",
        "MRS BREEN: Mr Bloom! You down here in the haunts of sin! I caught you\n",
        "nicely! Scamp!\n",
        "\n",
        "BLOOM: _(Hurriedly.)_ Not so loud my name. Whatever do you think of me?"
      ],
      "metadata": {
        "id": "cBfQwTFtoH8J"
      }
    },
    {
      "cell_type": "markdown",
      "source": [
        "# Using our expeirments & Observeations\n",
        "We found the author extensive use of punctuations marks, spaces is very notiable in his writing.\n",
        "To remain truth to the writing, our model should take account of this matter."
      ],
      "metadata": {
        "id": "7aVSibuColiX"
      }
    },
    {
      "cell_type": "code",
      "source": [
        "def create_book_df():\n",
        "  book_list = [fold for file, der, fold in os.walk(\"book_project/\")][0]\n",
        "  books_df = pandas.DataFrame(columns=[\"book_name\", \"text\"])\n",
        "  for book in book_list:\n",
        "      with open(f\"book_project/{book}\", encoding=\"utf-8\") as book_file:\n",
        "          cleaned = clean_book(book_file)\n",
        "          books_df = books_df.append({\"book_name\": book, \"text\": cleaned}, ignore_index=True)\n",
        "  books_df[\"cleaned_description\"] = books_df.apply(lambda book_row: remove_non_ascii(book_row), axis=1)\n",
        "  return books_df\n",
        "\n",
        "\n",
        "books_df = create_book_df()\n",
        "\n",
        "all_words = \"\"\n",
        "for index, row in books_df.iterrows():\n",
        "    all_words += row[\"cleaned_description\"]\n",
        "\n",
        "vocab = sorted(set(all_words))\n",
        "all_words_set = Counter(all_words.split())\n",
        "\n",
        "ids_from_chars = tf.keras.layers.StringLookup(\n",
        "    vocabulary=list(vocab), mask_token=None)\n",
        "\n",
        "chars_from_ids = tf.keras.layers.StringLookup(\n",
        "    vocabulary=ids_from_chars.get_vocabulary(), invert=True, mask_token=None)\n",
        "\n",
        "all_ids = ids_from_chars(tf.strings.unicode_split(all_words, 'UTF-8'))\n",
        "\n",
        "ids_dataset = tf.data.Dataset.from_tensor_slices(all_ids)\n",
        "\n",
        "seq_length = 100\n",
        "BATCH_SIZE = 20\n",
        "BUFFER_SIZE = 1000\n",
        "\n",
        "# The embedding dimension\n",
        "embedding_dim = 256\n",
        "\n",
        "# Number of RNN units\n",
        "rnn_units = 1024\n",
        "\n",
        "EPOCHS = 10\n",
        "\n",
        "def split_input_target(sequence):\n",
        "    input_text = sequence[:-1]\n",
        "    target_text = sequence[1:]\n",
        "    return input_text, target_text\n",
        "    \n",
        "sequences = ids_dataset.batch(seq_length+1, drop_remainder=True)\n",
        "  \n",
        "dataset = sequences.map(split_input_target)\n",
        "dataset = (\n",
        "    dataset\n",
        "    .shuffle(BUFFER_SIZE)\n",
        "    .batch(BATCH_SIZE, drop_remainder=True)\n",
        "    .prefetch(tf.data.experimental.AUTOTUNE))\n",
        "\n",
        "vocab_size = len(ids_from_chars.get_vocabulary())\n",
        "\n",
        "model_exp1 = MyModel(\n",
        "    vocab_size=vocab_size,\n",
        "    embedding_dim=embedding_dim,\n",
        "    rnn_units=rnn_units)\n",
        "\n",
        "sampled_indices = tf.random.categorical(example_batch_predictions[0], num_samples=1)\n",
        "sampled_indices = tf.squeeze(sampled_indices, axis=-1).numpy()\n",
        "\n",
        "for input_example_batch, target_example_batch in dataset.take(1):\n",
        "  example_batch_predictions = model_exp1(input_example_batch)\n",
        "  print(example_batch_predictions.shape, \"# (batch_size, sequence_length, vocab_size)\")\n",
        "\n",
        "example_batch_mean_loss = loss(target_example_batch, example_batch_predictions)\n",
        "\n",
        "model_exp1.compile(optimizer='adam', loss=loss)\n",
        "history = model_exp1.fit(dataset, epochs=EPOCHS)\n"
      ],
      "metadata": {
        "colab": {
          "base_uri": "https://localhost:8080/"
        },
        "id": "K8QbJpXeok6F",
        "outputId": "f7eac433-cf05-4b97-d111-82381c52d73f"
      },
      "execution_count": 51,
      "outputs": [
        {
          "output_type": "stream",
          "name": "stdout",
          "text": [
            "(20, 100, 83) # (batch_size, sequence_length, vocab_size)\n",
            "Epoch 1/10\n",
            "1238/1238 [==============================] - 35s 27ms/step - loss: 1.9684\n",
            "Epoch 2/10\n",
            "1238/1238 [==============================] - 33s 27ms/step - loss: 1.5352\n",
            "Epoch 3/10\n",
            "1238/1238 [==============================] - 34s 27ms/step - loss: 1.4255\n",
            "Epoch 4/10\n",
            "1238/1238 [==============================] - 33s 27ms/step - loss: 1.3565\n",
            "Epoch 5/10\n",
            "1238/1238 [==============================] - 33s 27ms/step - loss: 1.3022\n",
            "Epoch 6/10\n",
            "1238/1238 [==============================] - 33s 27ms/step - loss: 1.2550\n",
            "Epoch 7/10\n",
            "1238/1238 [==============================] - 33s 27ms/step - loss: 1.2164\n",
            "Epoch 8/10\n",
            "1238/1238 [==============================] - 33s 27ms/step - loss: 1.1857\n",
            "Epoch 9/10\n",
            "1238/1238 [==============================] - 34s 27ms/step - loss: 1.1632\n",
            "Epoch 10/10\n",
            "1238/1238 [==============================] - 34s 27ms/step - loss: 1.1480\n",
            "Joyce: Popery girls, pointing of her body\n",
            "across.\n",
            "\n",
            "Stephen played in all the friends from his even and,\n",
            "while Mr Holohans organs pride on the right steps and then, brought a match of\n",
            "shapely grandmothers Malliner hold of its rays without confused hands\n",
            "falls for nervous lyst top only but like that in his husband and\n",
            "he turned suddenly and that was present.\n",
            "\n",
            "His eye? lay a finely.\n",
            "\n",
            "O, dont make that two young men or the first rain honey, Miss\n",
            "OConnell Bridge said Mr Bartell DAccoll. He put his golden eyes for\n",
            "a rewly gardens and a carting officer. Nearly mentioned little womans to speak of\n",
            "the city again.\n",
            "\n",
            "Look at all, I can us, Mr Hill nothing for me, of course,\n",
            "the life of such priltiest! shillingsy: She would have been that thirty-men and mire!\n",
            "Here.\n",
            "\n",
            "Its on the gaunt      Aunt Julia, said Mary Jane, knew that his art\n",
            "wructly:\n",
            "\n",
            "Is that you were standing only to know?\n",
            "\n",
            "I am thought he was in Jeaus, Julia.\n",
            "\n",
            "John Gemmn? said Mr Cunningham. I all\n",
            "to tell her daunged Marth, I can scarch time.\n",
            "\n",
            "L \n",
            "\n",
            "________________________________________________________________________________\n",
            "\n",
            "Run time: 2.8513731956481934\n"
          ]
        }
      ]
    },
    {
      "cell_type": "code",
      "source": [
        "plot_model_loss(history)"
      ],
      "metadata": {
        "colab": {
          "base_uri": "https://localhost:8080/",
          "height": 295
        },
        "id": "hnmI3oyFRvZa",
        "outputId": "a6585b59-d919-4d9a-baeb-98bb0bdb44fd"
      },
      "execution_count": 53,
      "outputs": [
        {
          "output_type": "display_data",
          "data": {
            "text/plain": [
              "<Figure size 432x288 with 1 Axes>"
            ],
            "image/png": "[encoded data removed]"
          },
          "metadata": {
            "needs_background": "light"
          }
        }
      ]
    },
    {
      "cell_type": "markdown",
      "source": [
        "## Changing the input\n",
        "Let's feed a modern day storry teller writings as an input to our model.\n",
        "Obame - Obama Inaugural Address 2009."
      ],
      "metadata": {
        "id": "OsULda7w8sPJ"
      }
    },
    {
      "cell_type": "code",
      "source": [
        "with open (\"modern_day/obama.txt\") as modern_file:\n",
        "  modern_text = modern_file.read()"
      ],
      "metadata": {
        "id": "LIWwZWv29f_Z"
      },
      "execution_count": 37,
      "outputs": []
    },
    {
      "cell_type": "code",
      "source": [
        "one_step_model = OneStep(model_exp1, chars_from_ids, ids_from_chars)\n",
        "generated = \"\"\n",
        "start_index = 0\n",
        "sentence = modern_text[start_index : start_index + maxlen*5]\n",
        "\n",
        "next_char = tf.constant([sentence])\n",
        "result = [next_char]\n",
        "start_index+=maxlen\n",
        "\n",
        "start = time.time()\n",
        "states = None\n",
        "\n",
        "\n",
        "for n in range(1000):\n",
        "  next_char, states = one_step_model.generate_one_step(next_char, states=states)\n",
        "  result.append(next_char)\n",
        "\n",
        "result = tf.strings.join(result)\n",
        "end = time.time()\n",
        "print(result[0].numpy().decode('utf-8'))\n",
        "print('\\nRun time:', end - start)"
      ],
      "metadata": {
        "colab": {
          "base_uri": "https://localhost:8080/"
        },
        "id": "3uQvM4M8a3yE",
        "outputId": "7a343273-a63d-4072-d64b-efdc5187ac5a"
      },
      "execution_count": 59,
      "outputs": [
        {
          "output_type": "stream",
          "name": "stdout",
          "text": [
            "My fellow citizens:\n",
            "\n",
            "I stand here today humbled by the task before us, grateful for the trust you have bestowed, mindful of the sacrifices borne by our ancestors. I thank President Bush for his service with\n",
            "his hit house and Mr Gretta Cowleys purpose to think that now then\n",
            "he slipped up her attitude and said:\n",
            "\n",
            "The carver of a low voice asked that Gabriel could he revalt it elucide\n",
            "in a letter. He had casted on. The pleasant harse had came\n",
            "actively grouplight with a dream of stylishings, a great was neither, without looking at the bat, and, at the sizgar of the\n",
            "little snap had failed to be wants made a cry. Aunt Kate framed the cut\n",
            "shed and she heard.\n",
            "\n",
            "A querultude of Dublin dont Mr Dedalus puffed down the poor abopt table and shaped\n",
            "his glass in her hands, saying: he had bring in a chair, her spords is\n",
            "coming to me, as we were all hungry from them but his arm actives to\n",
            "right sleek lightly amid behind the glass of milk but when he retreated from it to mission.\n",
            "There were suffered from their compliments. To impression and conscious of this\n",
            "nerves appeared violently everyone laughed ordinarious to any accordine note like\n",
            "that, and then that the corner of the past of the station excit\n",
            "\n",
            "Run time: 2.8516979217529297\n"
          ]
        }
      ]
    },
    {
      "cell_type": "code",
      "source": [
        "one_step_model = OneStep(model_exp1, chars_from_ids, ids_from_chars)\n",
        "start = time.time()\n",
        "states = None\n",
        "\n",
        "text_len = len(modern_text)\n",
        "words = modern_text.split()\n",
        "to_letters = [word for word in modern_text.split()[:250]]\n",
        "next_char = tf.constant(words)\n",
        "result = [words]\n",
        "\n",
        "# repeatedly feed our modelthe modern text\n",
        "for n_char in range(len(words)):\n",
        "  next_char, states = one_step_model.generate_one_step(next_char, states=states)\n",
        "\n",
        "for n in range(1000):\n",
        "  next_char, states = one_step_model.generate_one_step(next_char, states=states)\n",
        "  result.append(next_char)\n",
        "\n",
        "\n",
        "result = tf.strings.join(result)\n",
        "end = time.time()\n",
        "print(result[0].numpy().decode('utf-8'), '\\n\\n' + '_'*80)\n",
        "print('\\nRun time:', end - start)"
      ],
      "metadata": {
        "colab": {
          "base_uri": "https://localhost:8080/"
        },
        "id": "2GVowGr3839O",
        "outputId": "c0997501-fa29-4c04-d53b-586d0337a875"
      },
      "execution_count": 48,
      "outputs": [
        {
          "output_type": "stream",
          "name": "stdout",
          "text": [
            "Myskimining his\n",
            "upper rail round the little cottons of gassive and oldigge:\n",
            "\n",
            "Quo Didnt seas on Mr Cunnng Maria!\n",
            "\n",
            "Considering herself with a blaub brother-in-law white tears: and the statue of the\n",
            "cowartyalthread-rooters were heads just as if he felt in the summer-face; and, when he\n",
            "was awakened into his boots. The man put himself he went\n",
            "over to the ladies of the presence of which Mr Alleyne was glass\n",
            "and still Early thereby coll-men of gust to such ruffian from weeks and words\n",
            "and the sandwise, repeated in natural issightance.\n",
            "\n",
            "The car drove every joke. But she can say it was there. Some country fellows, in\n",
            "Paradice Since whench the furnast mouth of the tamples well-window and\n",
            "happiert for he was very decend my head in audience. Not of her religion paralysnased\n",
            "by the sickcar away. She shome his mother had known a waught a line\n",
            "summance.\n",
            "\n",
            "O, look it, I pity something. Longest way a nice pain.\n",
            "\n",
            "Go worked rosiking in shrill and approvenge-on-the-boosery and said:\n",
            "\n",
            "Do you mean anything? O, \n",
            "\n",
            "________________________________________________________________________________\n",
            "\n",
            "Run time: 19.926172733306885\n"
          ]
        }
      ]
    },
    {
      "cell_type": "markdown",
      "source": [
        "# Even more text statistics"
      ],
      "metadata": {
        "id": "amcYk0z4pFAC"
      }
    },
    {
      "cell_type": "code",
      "source": [
        "def create_book_df():\n",
        "  book_list = [fold for file, der, fold in os.walk(\"book_project/\")][0]\n",
        "  books_df = pandas.DataFrame(columns=[\"book_name\", \"text\"])\n",
        "  for book in book_list:\n",
        "      with open(f\"book_project/{book}\", encoding=\"utf-8\") as book_file:\n",
        "          cleaned = clean_book(book_file)\n",
        "          books_df = books_df.append({\"book_name\": book, \"text\": cleaned}, ignore_index=True)\n",
        "  books_df[\"cleaned_description\"] = books_df.apply(lambda book_row: remove_non_ascii(book_row), axis=1)\n",
        "  return books_df\n",
        "\n",
        "\n",
        "books_df = create_book_df()\n",
        "\n",
        "all_words = \"\"\n",
        "for index, row in books_df.iterrows():\n",
        "    all_words += row[\"cleaned_description\"]\n",
        "\n",
        "vocab = sorted(set(all_words))\n",
        "print(f\"{len(vocab)} unique characters\")\n",
        "\n",
        "all_words_set = Counter(all_words.split())"
      ],
      "metadata": {
        "colab": {
          "base_uri": "https://localhost:8080/"
        },
        "id": "myhlyCtspNVq",
        "outputId": "7ec64717-260e-4dcc-80c8-096866fcd0da"
      },
      "execution_count": null,
      "outputs": [
        {
          "output_type": "stream",
          "name": "stdout",
          "text": [
            "82 unique characters\n"
          ]
        }
      ]
    },
    {
      "cell_type": "code",
      "source": [
        "def find_longest_word(word_list):  \n",
        "    longest_word =  max(word_list, key=len)\n",
        "    return longest_word\n",
        "find_longest_word(all_words_set)"
      ],
      "metadata": {
        "colab": {
          "base_uri": "https://localhost:8080/",
          "height": 35
        },
        "id": "uEmsr8clqen9",
        "outputId": "588f3cfc-aaf1-457a-8f3e-c53e2d00eb0a"
      },
      "execution_count": null,
      "outputs": [
        {
          "output_type": "execute_result",
          "data": {
            "text/plain": [
              "'Nationalgymnasiummuseumsanatoriumandsuspensoriumsordinaryprivatdocentge'"
            ],
            "application/vnd.google.colaboratory.intrinsic+json": {
              "type": "string"
            }
          },
          "metadata": {},
          "execution_count": 14
        }
      ]
    },
    {
      "cell_type": "code",
      "source": [
        "words_length = dict()\n",
        "for word in all_words_set:\n",
        "  length = len(word)\n",
        "  if length in words_length:\n",
        "    words_length[length] += 1\n",
        "  else:\n",
        "    words_length[length] = 1\n",
        "words_length\n",
        "# lets remove the \"edges\"\n",
        "cleaned = dict()\n",
        "for key, value in words_length.items():\n",
        "  if value > 2:\n",
        "    cleaned[key]=value\n",
        "cleaned\n"
      ],
      "metadata": {
        "colab": {
          "base_uri": "https://localhost:8080/"
        },
        "id": "Kh7DtpJdq95E",
        "outputId": "7e1888f1-191c-40ab-dd8c-ac41e34da190"
      },
      "execution_count": null,
      "outputs": [
        {
          "output_type": "execute_result",
          "data": {
            "text/plain": [
              "{1: 56,\n",
              " 8: 8650,\n",
              " 2: 339,\n",
              " 3: 1381,\n",
              " 6: 8939,\n",
              " 5: 7131,\n",
              " 7: 9367,\n",
              " 14: 593,\n",
              " 4: 3978,\n",
              " 10: 5034,\n",
              " 9: 6869,\n",
              " 11: 3301,\n",
              " 19: 23,\n",
              " 13: 1108,\n",
              " 12: 1959,\n",
              " 16: 136,\n",
              " 15: 283,\n",
              " 17: 75,\n",
              " 18: 31,\n",
              " 20: 12,\n",
              " 21: 6,\n",
              " 24: 4,\n",
              " 22: 4,\n",
              " 27: 3,\n",
              " 34: 3}"
            ]
          },
          "metadata": {},
          "execution_count": 47
        }
      ]
    },
    {
      "cell_type": "code",
      "source": [
        "import matplotlib.pyplot as plt\n",
        "\n",
        "plt.bar(*zip(*cleaned.items()))\n",
        "plt.show()"
      ],
      "metadata": {
        "colab": {
          "base_uri": "https://localhost:8080/",
          "height": 265
        },
        "id": "zNFlem9itknC",
        "outputId": "7d1c4fb8-1793-4ea4-bfcf-a091c766a218"
      },
      "execution_count": null,
      "outputs": [
        {
          "output_type": "display_data",
          "data": {
            "text/plain": [
              "<Figure size 432x288 with 1 Axes>"
            ],
            "image/png": "[encoded data removed]"
          },
          "metadata": {
            "needs_background": "light"
          }
        }
      ]
    }
  ],
  "metadata": {
    "accelerator": "GPU",
    "colab": {
      "collapsed_sections": [
        "rJz-F6aIs18C",
        "2BnMma8iyRey",
        "4CWnd73WteQA",
        "HF8ay3RTy7KP",
        "vjnI8OJLvgBI",
        "5wrP5am3Hk9_",
        "Nhz5-GJ6IM33",
        "WddHjfUAne9Y",
        "amcYk0z4pFAC"
      ],
      "machine_shape": "hm",
      "provenance": [],
      "toc_visible": true
    },
    "gpuClass": "standard",
    "kernelspec": {
      "display_name": "Python 3",
      "name": "python3"
    },
    "language_info": {
      "name": "python"
    }
  },
  "nbformat": 4,
  "nbformat_minor": 0
}